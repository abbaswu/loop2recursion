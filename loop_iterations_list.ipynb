{
 "cells": [
  {
   "cell_type": "code",
   "execution_count": 1,
   "id": "0a7c36b8-45cc-4f85-8e8e-c5de101e266c",
   "metadata": {},
   "outputs": [],
   "source": [
    "from matplotlib import pyplot as plt\n",
    "\n",
    "%matplotlib ipympl\n",
    "\n",
    "plt.rcParams['figure.figsize'] = [10, 5]\n",
    "plt.rcParams['font.size'] = 7.5\n",
    "# 用来正常显示中文标签\n",
    "plt.rcParams['font.family'] = 'sans-serif' \n",
    "plt.rcParams['figure.autolayout'] = True\n",
    "# 用来正常显示负号\n",
    "plt.rcParams['axes.unicode_minus'] = False \n",
    "plt.rcParams['axes.xmargin'] = 0\n",
    "plt.rcParams['axes.ymargin'] = 0"
   ]
  },
  {
   "cell_type": "code",
   "execution_count": 2,
   "id": "e5d2e6ad-5e3e-4b7d-a95e-862b47384ef7",
   "metadata": {},
   "outputs": [],
   "source": [
    "import numpy as np\n",
    "import pandas as pd\n",
    "import pylatex\n",
    "pd.set_option('precision', 2)\n",
    "\n",
    "from calculate_increases import calculate_increases\n",
    "from line_chart_with_multiple_lines import line_chart_with_multiple_lines\n",
    "from grouped_bar_chart import grouped_bar_chart\n",
    "from parse_data import *"
   ]
  },
  {
   "cell_type": "code",
   "execution_count": 3,
   "id": "9526ed44-4014-4cb3-ad06-d2fe40083113",
   "metadata": {},
   "outputs": [],
   "source": [
    "benchmark_max_stack_usages = parse_profile_data_in_directory_to_dataframe(\n",
    "    parse_json_format_profile_data_directory('benchmark_max_stack_usages', 'stack_size'),\n",
    "    'max_stack_usage',\n",
    "    True\n",
    ")\n",
    "\n",
    "benchmark_instruction_counts = parse_profile_data_in_directory_to_dataframe(\n",
    "    parse_benchmark_instruction_counts_directory('benchmark_instruction_counts'),\n",
    "    'instruction_count',\n",
    "    True\n",
    ")\n",
    "\n",
    "benchmark_writes_on_hottest_stack_addresses = parse_profile_data_in_directory_to_dataframe(\n",
    "    parse_json_format_profile_data_directory('benchmark_writes_on_hottest_stack_addresses', 'writes'),\n",
    "    'writes_on_hottest_stack_address',\n",
    "    True\n",
    ")\n",
    "\n",
    "max_number_of_stack_frames_on_a_stack_address = parse_profile_data_in_directory_to_dataframe(\n",
    "    parse_json_format_profile_data_directory('max_number_of_stack_frames_on_a_stack_address', 'number_of_stack_frames'),\n",
    "    'max_number_of_stack_frames_on_a_stack_address',\n",
    "    True\n",
    ")\n",
    "\n",
    "writes_on_hottest_address_in_stack_frames = parse_profile_data_in_directory_to_dataframe(\n",
    "    parse_json_format_profile_data_directory('writes_on_hottest_address_in_stack_frames', 'writes'),\n",
    "    'writes_on_hottest_address_in_stack_frames',\n",
    "    True\n",
    ")"
   ]
  },
  {
   "cell_type": "code",
   "execution_count": 4,
   "id": "3186413f-9ecb-491e-a855-f7976c77587b",
   "metadata": {},
   "outputs": [],
   "source": [
    "import re"
   ]
  },
  {
   "cell_type": "code",
   "execution_count": 5,
   "id": "678e7470-cb56-45ca-8233-6e8ad654646b",
   "metadata": {},
   "outputs": [
    {
     "data": {
      "text/plain": [
       "[8, 16, 32, 64]"
      ]
     },
     "execution_count": 5,
     "metadata": {},
     "output_type": "execute_result"
    }
   ],
   "source": [
    "def g(types_of_benchmarks):\n",
    "    loop_iterations_benchmark_type_pattern = re.compile(r'new_loop2recursion-loop_iterations-(\\d+)')\n",
    "    for benchmark_type in types_of_benchmarks:\n",
    "        match = loop_iterations_benchmark_type_pattern.match(benchmark_type)\n",
    "        if match:\n",
    "            loop_iterations_string, *_ = match.groups()\n",
    "            loop_iterations = int(loop_iterations_string)\n",
    "            yield loop_iterations\n",
    "\n",
    "loop_iterations_list = list(g(benchmark_max_stack_usages['executable_type'].unique()))\n",
    "loop_iterations_list.sort()\n",
    "loop_iterations_list"
   ]
  },
  {
   "cell_type": "code",
   "execution_count": 6,
   "id": "1bb67a00-f712-4aea-a312-4a7468343013",
   "metadata": {},
   "outputs": [
    {
     "data": {
      "text/plain": [
       "{'new_loop2recursion': '00',\n",
       " 'new_loop2recursion-loop_iterations-8': '08',\n",
       " 'new_loop2recursion-loop_iterations-16': '16',\n",
       " 'new_loop2recursion-loop_iterations-32': '32',\n",
       " 'new_loop2recursion-loop_iterations-64': '64'}"
      ]
     },
     "execution_count": 6,
     "metadata": {},
     "output_type": "execute_result"
    }
   ],
   "source": [
    "loop_iterations_executable_type_renaming = { 'new_loop2recursion': f'{0:02}' }\n",
    "\n",
    "for loop_iterations in loop_iterations_list:\n",
    "    loop_iterations_executable_type_renaming[f'new_loop2recursion-loop_iterations-{loop_iterations}'] = f'{loop_iterations:02}'\n",
    "\n",
    "loop_iterations_executable_type_renaming"
   ]
  },
  {
   "cell_type": "code",
   "execution_count": 7,
   "id": "b909235f-2a4c-49c2-b0d3-260583a309a9",
   "metadata": {},
   "outputs": [
    {
     "data": {
      "text/html": [
       "<div>\n",
       "<style scoped>\n",
       "    .dataframe tbody tr th:only-of-type {\n",
       "        vertical-align: middle;\n",
       "    }\n",
       "\n",
       "    .dataframe tbody tr th {\n",
       "        vertical-align: top;\n",
       "    }\n",
       "\n",
       "    .dataframe thead th {\n",
       "        text-align: right;\n",
       "    }\n",
       "</style>\n",
       "<table border=\"1\" class=\"dataframe\">\n",
       "  <thead>\n",
       "    <tr style=\"text-align: right;\">\n",
       "      <th></th>\n",
       "      <th>executable_type</th>\n",
       "      <th>benchmark</th>\n",
       "      <th>max_stack_usage</th>\n",
       "    </tr>\n",
       "  </thead>\n",
       "  <tbody>\n",
       "    <tr>\n",
       "      <th>236</th>\n",
       "      <td>00</td>\n",
       "      <td>average</td>\n",
       "      <td>4.49e+06</td>\n",
       "    </tr>\n",
       "    <tr>\n",
       "      <th>231</th>\n",
       "      <td>08</td>\n",
       "      <td>average</td>\n",
       "      <td>1.82e+06</td>\n",
       "    </tr>\n",
       "    <tr>\n",
       "      <th>230</th>\n",
       "      <td>16</td>\n",
       "      <td>average</td>\n",
       "      <td>1.22e+06</td>\n",
       "    </tr>\n",
       "    <tr>\n",
       "      <th>235</th>\n",
       "      <td>32</td>\n",
       "      <td>average</td>\n",
       "      <td>9.21e+05</td>\n",
       "    </tr>\n",
       "    <tr>\n",
       "      <th>226</th>\n",
       "      <td>64</td>\n",
       "      <td>average</td>\n",
       "      <td>7.73e+05</td>\n",
       "    </tr>\n",
       "    <tr>\n",
       "      <th>...</th>\n",
       "      <td>...</td>\n",
       "      <td>...</td>\n",
       "      <td>...</td>\n",
       "    </tr>\n",
       "    <tr>\n",
       "      <th>201</th>\n",
       "      <td>00</td>\n",
       "      <td>susan</td>\n",
       "      <td>3.81e+05</td>\n",
       "    </tr>\n",
       "    <tr>\n",
       "      <th>136</th>\n",
       "      <td>08</td>\n",
       "      <td>susan</td>\n",
       "      <td>3.72e+05</td>\n",
       "    </tr>\n",
       "    <tr>\n",
       "      <th>123</th>\n",
       "      <td>16</td>\n",
       "      <td>susan</td>\n",
       "      <td>3.72e+05</td>\n",
       "    </tr>\n",
       "    <tr>\n",
       "      <th>188</th>\n",
       "      <td>32</td>\n",
       "      <td>susan</td>\n",
       "      <td>3.72e+05</td>\n",
       "    </tr>\n",
       "    <tr>\n",
       "      <th>71</th>\n",
       "      <td>64</td>\n",
       "      <td>susan</td>\n",
       "      <td>3.72e+05</td>\n",
       "    </tr>\n",
       "  </tbody>\n",
       "</table>\n",
       "<p>70 rows × 3 columns</p>\n",
       "</div>"
      ],
      "text/plain": [
       "    executable_type benchmark  max_stack_usage\n",
       "236              00   average         4.49e+06\n",
       "231              08   average         1.82e+06\n",
       "230              16   average         1.22e+06\n",
       "235              32   average         9.21e+05\n",
       "226              64   average         7.73e+05\n",
       "..              ...       ...              ...\n",
       "201              00     susan         3.81e+05\n",
       "136              08     susan         3.72e+05\n",
       "123              16     susan         3.72e+05\n",
       "188              32     susan         3.72e+05\n",
       "71               64     susan         3.72e+05\n",
       "\n",
       "[70 rows x 3 columns]"
      ]
     },
     "execution_count": 7,
     "metadata": {},
     "output_type": "execute_result"
    }
   ],
   "source": [
    "loop_iterations_benchmark_max_stack_usages = benchmark_max_stack_usages[\n",
    "    benchmark_max_stack_usages['executable_type'].isin(\n",
    "        loop_iterations_executable_type_renaming\n",
    "    )\n",
    "].replace(\n",
    "    to_replace=loop_iterations_executable_type_renaming\n",
    ").sort_values(\n",
    "    by=['benchmark', 'executable_type']\n",
    ")\n",
    "\n",
    "loop_iterations_benchmark_max_stack_usages"
   ]
  },
  {
   "cell_type": "code",
   "execution_count": 8,
   "id": "04c59209-8c73-450f-b67d-f0c165cd8767",
   "metadata": {},
   "outputs": [
    {
     "data": {
      "text/plain": [
       "(<Figure size 1000x500 with 1 Axes>,\n",
       " <AxesSubplot:xlabel='Benchmark', ylabel='Maximum Stack Usage'>)"
      ]
     },
     "execution_count": 8,
     "metadata": {},
     "output_type": "execute_result"
    },
    {
     "data": {
      "application/vnd.jupyter.widget-view+json": {
       "model_id": "13bba63fcff140f49011fd835c67559b",
       "version_major": 2,
       "version_minor": 0
      },
      "image/png": "[encoded data removed]",
      "text/html": [
       "\n",
       "            <div style=\"display: inline-block;\">\n",
       "                <div class=\"jupyter-widgets widget-label\" style=\"text-align: center;\">\n",
       "                    Figure\n",
       "                </div>\n",
       "                <img src='data:image/png;base64,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' width=1000.0/>\n",
       "            </div>\n",
       "        "
      ],
      "text/plain": [
       "Canvas(toolbar=Toolbar(toolitems=[('Home', 'Reset original view', 'home', 'home'), ('Back', 'Back to previous …"
      ]
     },
     "metadata": {},
     "output_type": "display_data"
    }
   ],
   "source": [
    "grouped_bar_chart(\n",
    "    groups=loop_iterations_benchmark_max_stack_usages['benchmark'].unique(),\n",
    "    labels=loop_iterations_executable_type_renaming.values(),\n",
    "    data_by_label = (\n",
    "        loop_iterations_benchmark_max_stack_usages[\n",
    "            loop_iterations_benchmark_max_stack_usages['executable_type'] == loop_iterations_executable_type\n",
    "        ]['max_stack_usage']\n",
    "        for loop_iterations_executable_type in loop_iterations_executable_type_renaming.values()\n",
    "    ),\n",
    "    xlabel='Benchmark',\n",
    "    ylabel='Maximum Stack Usage',\n",
    "    log=True\n",
    ")"
   ]
  },
  {
   "cell_type": "code",
   "execution_count": 9,
   "id": "be0aedbe-b286-405d-bbb0-b7844b316a69",
   "metadata": {},
   "outputs": [],
   "source": [
    "_[0].savefig('maximum_stack_usages_under_different_loop_iterations.pdf')"
   ]
  },
  {
   "cell_type": "code",
   "execution_count": 10,
   "id": "cae70ac5-9f85-442d-9380-e3ff6a6b27cc",
   "metadata": {},
   "outputs": [
    {
     "name": "stdout",
     "output_type": "stream",
     "text": [
      "\\begin{table}\n",
      "\\centering\n",
      "\\caption{Maximum Stack Usages Under Different Loop Iterations}\n",
      "\\label{table:maximum_stack_usages_under_different_loop_iterations}\n",
      "\\begin{tabular}{lrrrrr}\n",
      "\\toprule\n",
      "benchmark &       00 & 08 Change & 16 Change & 32 Change & 64 Change \\\\\n",
      "\\midrule\n",
      "  average & 4.49e+06 &   -59.51\\% &   -72.84\\% &   -79.50\\% &   -82.81\\% \\\\\n",
      "basicmath & 3.38e+04 &   -70.93\\% &   -82.86\\% &   -88.73\\% &   -91.48\\% \\\\\n",
      "       bf & 2.62e+05 &   -78.37\\% &   -87.45\\% &   -91.99\\% &   -94.31\\% \\\\\n",
      "  bitcnts & 4.80e+06 &   -68.75\\% &   -84.37\\% &   -92.18\\% &   -96.08\\% \\\\\n",
      "   crc\\_32 & 4.38e+07 &   -68.75\\% &   -84.37\\% &   -92.19\\% &   -96.09\\% \\\\\n",
      " dijkstra & 5.47e+04 &   -79.72\\% &   -89.73\\% &   -94.70\\% &   -95.41\\% \\\\\n",
      "      fft & 1.97e+05 &   -74.89\\% &   -87.36\\% &   -93.60\\% &   -96.63\\% \\\\\n",
      " patricia & 5.26e+05 &   -82.83\\% &   -91.12\\% &   -95.26\\% &   -97.33\\% \\\\\n",
      "  pbmsrch & 1.08e+04 &   -70.01\\% &   -77.10\\% &   -79.17\\% &   -79.17\\% \\\\\n",
      "    qsort & 8.00e+06 &    -2.75\\% &    -3.37\\% &    -3.69\\% &    -3.84\\% \\\\\n",
      "rawcaudio & 1.87e+05 &   -76.16\\% &   -88.04\\% &   -93.80\\% &   -93.80\\% \\\\\n",
      "rawdaudio & 1.55e+05 &   -75.09\\% &   -87.50\\% &   -92.52\\% &   -92.52\\% \\\\\n",
      "      sha & 1.78e+04 &   -31.90\\% &   -38.10\\% &   -41.96\\% &   -43.22\\% \\\\\n",
      "    susan & 3.81e+05 &    -2.44\\% &    -2.44\\% &    -2.44\\% &    -2.44\\% \\\\\n",
      "\\bottomrule\n",
      "\\end{tabular}\n",
      "\\end{table}\n",
      "\n"
     ]
    }
   ],
   "source": [
    "maximum_stack_usages_under_different_loop_iterations = calculate_increases(\n",
    "    loop_iterations_benchmark_max_stack_usages,\n",
    "    '00',\n",
    "    [\n",
    "        f'{loop_iterations:02}' for loop_iterations in loop_iterations_list\n",
    "    ],\n",
    "    'max_stack_usage',\n",
    "    lambda executable_type: f'{executable_type} Change'\n",
    ").to_latex(\n",
    "    formatters={\n",
    "        f'{executable_type} Change': '{:,.2%}'.format\n",
    "        for executable_type in loop_iterations_executable_type_renaming.values()\n",
    "    },\n",
    "    caption='Maximum Stack Usages Under Different Loop Iterations',\n",
    "    label='table:maximum_stack_usages_under_different_loop_iterations',\n",
    "    index=False\n",
    ")\n",
    "\n",
    "print(maximum_stack_usages_under_different_loop_iterations)"
   ]
  },
  {
   "cell_type": "code",
   "execution_count": 11,
   "id": "eaac4cd5-55cc-4382-90d3-c424642a288e",
   "metadata": {},
   "outputs": [
    {
     "data": {
      "text/html": [
       "<div>\n",
       "<style scoped>\n",
       "    .dataframe tbody tr th:only-of-type {\n",
       "        vertical-align: middle;\n",
       "    }\n",
       "\n",
       "    .dataframe tbody tr th {\n",
       "        vertical-align: top;\n",
       "    }\n",
       "\n",
       "    .dataframe thead th {\n",
       "        text-align: right;\n",
       "    }\n",
       "</style>\n",
       "<table border=\"1\" class=\"dataframe\">\n",
       "  <thead>\n",
       "    <tr style=\"text-align: right;\">\n",
       "      <th></th>\n",
       "      <th>executable_type</th>\n",
       "      <th>benchmark</th>\n",
       "      <th>instruction_count</th>\n",
       "    </tr>\n",
       "  </thead>\n",
       "  <tbody>\n",
       "    <tr>\n",
       "      <th>236</th>\n",
       "      <td>00</td>\n",
       "      <td>average</td>\n",
       "      <td>5.90e+07</td>\n",
       "    </tr>\n",
       "    <tr>\n",
       "      <th>231</th>\n",
       "      <td>08</td>\n",
       "      <td>average</td>\n",
       "      <td>7.72e+07</td>\n",
       "    </tr>\n",
       "    <tr>\n",
       "      <th>230</th>\n",
       "      <td>16</td>\n",
       "      <td>average</td>\n",
       "      <td>7.58e+07</td>\n",
       "    </tr>\n",
       "    <tr>\n",
       "      <th>235</th>\n",
       "      <td>32</td>\n",
       "      <td>average</td>\n",
       "      <td>7.52e+07</td>\n",
       "    </tr>\n",
       "    <tr>\n",
       "      <th>226</th>\n",
       "      <td>64</td>\n",
       "      <td>average</td>\n",
       "      <td>7.50e+07</td>\n",
       "    </tr>\n",
       "    <tr>\n",
       "      <th>...</th>\n",
       "      <td>...</td>\n",
       "      <td>...</td>\n",
       "      <td>...</td>\n",
       "    </tr>\n",
       "    <tr>\n",
       "      <th>201</th>\n",
       "      <td>00</td>\n",
       "      <td>susan</td>\n",
       "      <td>6.87e+07</td>\n",
       "    </tr>\n",
       "    <tr>\n",
       "      <th>136</th>\n",
       "      <td>08</td>\n",
       "      <td>susan</td>\n",
       "      <td>1.11e+08</td>\n",
       "    </tr>\n",
       "    <tr>\n",
       "      <th>123</th>\n",
       "      <td>16</td>\n",
       "      <td>susan</td>\n",
       "      <td>1.08e+08</td>\n",
       "    </tr>\n",
       "    <tr>\n",
       "      <th>188</th>\n",
       "      <td>32</td>\n",
       "      <td>susan</td>\n",
       "      <td>1.08e+08</td>\n",
       "    </tr>\n",
       "    <tr>\n",
       "      <th>71</th>\n",
       "      <td>64</td>\n",
       "      <td>susan</td>\n",
       "      <td>1.08e+08</td>\n",
       "    </tr>\n",
       "  </tbody>\n",
       "</table>\n",
       "<p>70 rows × 3 columns</p>\n",
       "</div>"
      ],
      "text/plain": [
       "    executable_type benchmark  instruction_count\n",
       "236              00   average           5.90e+07\n",
       "231              08   average           7.72e+07\n",
       "230              16   average           7.58e+07\n",
       "235              32   average           7.52e+07\n",
       "226              64   average           7.50e+07\n",
       "..              ...       ...                ...\n",
       "201              00     susan           6.87e+07\n",
       "136              08     susan           1.11e+08\n",
       "123              16     susan           1.08e+08\n",
       "188              32     susan           1.08e+08\n",
       "71               64     susan           1.08e+08\n",
       "\n",
       "[70 rows x 3 columns]"
      ]
     },
     "execution_count": 11,
     "metadata": {},
     "output_type": "execute_result"
    }
   ],
   "source": [
    "loop_iterations_benchmark_instruction_counts = benchmark_instruction_counts[\n",
    "    benchmark_instruction_counts['executable_type'].isin(\n",
    "        loop_iterations_executable_type_renaming\n",
    "    )\n",
    "].replace(\n",
    "    to_replace=loop_iterations_executable_type_renaming\n",
    ").sort_values(\n",
    "    by=['benchmark', 'executable_type']\n",
    ")\n",
    "\n",
    "loop_iterations_benchmark_instruction_counts"
   ]
  },
  {
   "cell_type": "code",
   "execution_count": 12,
   "id": "1afa4d9a-dadf-4940-87fc-c37b51e7d83f",
   "metadata": {},
   "outputs": [
    {
     "data": {
      "text/plain": [
       "(<Figure size 1000x500 with 1 Axes>,\n",
       " <AxesSubplot:xlabel='Benchmark', ylabel='Instruction Count'>)"
      ]
     },
     "execution_count": 12,
     "metadata": {},
     "output_type": "execute_result"
    },
    {
     "data": {
      "application/vnd.jupyter.widget-view+json": {
       "model_id": "24f7d88661534eaab15e74abf25a52d3",
       "version_major": 2,
       "version_minor": 0
      },
      "image/png": "[encoded data removed]",
      "text/html": [
       "\n",
       "            <div style=\"display: inline-block;\">\n",
       "                <div class=\"jupyter-widgets widget-label\" style=\"text-align: center;\">\n",
       "                    Figure\n",
       "                </div>\n",
       "                <img src='data:image/png;base64,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' width=1000.0/>\n",
       "            </div>\n",
       "        "
      ],
      "text/plain": [
       "Canvas(toolbar=Toolbar(toolitems=[('Home', 'Reset original view', 'home', 'home'), ('Back', 'Back to previous …"
      ]
     },
     "metadata": {},
     "output_type": "display_data"
    }
   ],
   "source": [
    "grouped_bar_chart(\n",
    "    groups=loop_iterations_benchmark_instruction_counts['benchmark'].unique(),\n",
    "    labels=loop_iterations_executable_type_renaming.values(),\n",
    "    data_by_label = (\n",
    "        loop_iterations_benchmark_instruction_counts[\n",
    "            loop_iterations_benchmark_instruction_counts['executable_type'] == loop_iterations_executable_type\n",
    "        ]['instruction_count']\n",
    "        for loop_iterations_executable_type in loop_iterations_executable_type_renaming.values()\n",
    "    ),\n",
    "    xlabel='Benchmark',\n",
    "    ylabel='Instruction Count',\n",
    "    log=True\n",
    ")"
   ]
  },
  {
   "cell_type": "code",
   "execution_count": 13,
   "id": "a443e920-8334-4dd2-812a-6de0ca37a3f2",
   "metadata": {},
   "outputs": [],
   "source": [
    "_[0].savefig('instruction_counts_under_different_loop_iterations.pdf')"
   ]
  },
  {
   "cell_type": "code",
   "execution_count": 14,
   "id": "1aac1552-9d46-4c16-958c-cd9a6d2e4f3f",
   "metadata": {},
   "outputs": [
    {
     "name": "stdout",
     "output_type": "stream",
     "text": [
      "\\begin{table}\n",
      "\\centering\n",
      "\\caption{Instruction Counts Under Different Loop Iterations}\n",
      "\\label{table:instruction_counts_under_different_loop_iterations}\n",
      "\\begin{tabular}{lrrrrr}\n",
      "\\toprule\n",
      "benchmark &       00 & 08 Change & 16 Change & 32 Change & 64 Change \\\\\n",
      "\\midrule\n",
      "  average & 5.90e+07 &    30.87\\% &    28.56\\% &    27.62\\% &    27.26\\% \\\\\n",
      "basicmath & 4.97e+07 &     1.81\\% &     1.68\\% &     1.63\\% &     1.63\\% \\\\\n",
      "       bf & 5.62e+07 &    19.74\\% &    18.49\\% &    17.86\\% &    17.23\\% \\\\\n",
      "  bitcnts & 1.04e+08 &    58.61\\% &    54.18\\% &    51.92\\% &    51.77\\% \\\\\n",
      "   crc\\_32 & 5.07e+07 &    40.13\\% &    37.60\\% &    36.33\\% &    35.70\\% \\\\\n",
      " dijkstra & 1.17e+08 &    28.08\\% &    25.84\\% &    24.72\\% &    24.06\\% \\\\\n",
      "      fft & 3.05e+07 &     2.75\\% &     2.61\\% &     2.55\\% &     2.52\\% \\\\\n",
      " patricia & 7.24e+07 &     2.38\\% &     2.11\\% &     2.22\\% &     2.22\\% \\\\\n",
      "  pbmsrch & 1.70e+05 &     4.45\\% &     4.39\\% &     4.37\\% &     4.37\\% \\\\\n",
      "    qsort & 1.46e+07 &     1.08\\% &     0.98\\% &     2.56\\% &     2.56\\% \\\\\n",
      "rawcaudio & 1.01e+08 &    26.93\\% &    24.69\\% &    23.57\\% &    23.00\\% \\\\\n",
      "rawdaudio & 7.98e+07 &    29.97\\% &    27.41\\% &    26.14\\% &    25.48\\% \\\\\n",
      "      sha & 2.26e+07 &    63.47\\% &    60.18\\% &    57.13\\% &    57.13\\% \\\\\n",
      "    susan & 6.87e+07 &    62.02\\% &    57.47\\% &    57.46\\% &    57.46\\% \\\\\n",
      "\\bottomrule\n",
      "\\end{tabular}\n",
      "\\end{table}\n",
      "\n"
     ]
    }
   ],
   "source": [
    "instruction_counts_under_different_loop_iterations = calculate_increases(\n",
    "    loop_iterations_benchmark_instruction_counts,\n",
    "    '00',\n",
    "    [\n",
    "        f'{loop_iterations:02}' for loop_iterations in loop_iterations_list\n",
    "    ],\n",
    "    'instruction_count',\n",
    "    lambda executable_type: f'{executable_type} Change'\n",
    ").to_latex(\n",
    "    formatters={\n",
    "        f'{executable_type} Change': '{:,.2%}'.format\n",
    "        for executable_type in loop_iterations_executable_type_renaming.values()\n",
    "    },\n",
    "    caption='Instruction Counts Under Different Loop Iterations',\n",
    "    label='table:instruction_counts_under_different_loop_iterations',\n",
    "    index=False\n",
    ")\n",
    "\n",
    "print(instruction_counts_under_different_loop_iterations)"
   ]
  },
  {
   "cell_type": "code",
   "execution_count": 15,
   "id": "c324fd98-de5f-4507-aeb4-6effe3dfe7cb",
   "metadata": {},
   "outputs": [
    {
     "data": {
      "text/html": [
       "<div>\n",
       "<style scoped>\n",
       "    .dataframe tbody tr th:only-of-type {\n",
       "        vertical-align: middle;\n",
       "    }\n",
       "\n",
       "    .dataframe tbody tr th {\n",
       "        vertical-align: top;\n",
       "    }\n",
       "\n",
       "    .dataframe thead th {\n",
       "        text-align: right;\n",
       "    }\n",
       "</style>\n",
       "<table border=\"1\" class=\"dataframe\">\n",
       "  <thead>\n",
       "    <tr style=\"text-align: right;\">\n",
       "      <th></th>\n",
       "      <th>executable_type</th>\n",
       "      <th>benchmark</th>\n",
       "      <th>writes_on_hottest_stack_address</th>\n",
       "    </tr>\n",
       "  </thead>\n",
       "  <tbody>\n",
       "    <tr>\n",
       "      <th>236</th>\n",
       "      <td>00</td>\n",
       "      <td>average</td>\n",
       "      <td>1.29e+05</td>\n",
       "    </tr>\n",
       "    <tr>\n",
       "      <th>231</th>\n",
       "      <td>08</td>\n",
       "      <td>average</td>\n",
       "      <td>1.64e+05</td>\n",
       "    </tr>\n",
       "    <tr>\n",
       "      <th>230</th>\n",
       "      <td>16</td>\n",
       "      <td>average</td>\n",
       "      <td>2.16e+05</td>\n",
       "    </tr>\n",
       "    <tr>\n",
       "      <th>235</th>\n",
       "      <td>32</td>\n",
       "      <td>average</td>\n",
       "      <td>3.06e+05</td>\n",
       "    </tr>\n",
       "    <tr>\n",
       "      <th>226</th>\n",
       "      <td>64</td>\n",
       "      <td>average</td>\n",
       "      <td>4.51e+05</td>\n",
       "    </tr>\n",
       "    <tr>\n",
       "      <th>...</th>\n",
       "      <td>...</td>\n",
       "      <td>...</td>\n",
       "      <td>...</td>\n",
       "    </tr>\n",
       "    <tr>\n",
       "      <th>201</th>\n",
       "      <td>00</td>\n",
       "      <td>susan</td>\n",
       "      <td>1.78e+04</td>\n",
       "    </tr>\n",
       "    <tr>\n",
       "      <th>136</th>\n",
       "      <td>08</td>\n",
       "      <td>susan</td>\n",
       "      <td>2.17e+05</td>\n",
       "    </tr>\n",
       "    <tr>\n",
       "      <th>123</th>\n",
       "      <td>16</td>\n",
       "      <td>susan</td>\n",
       "      <td>4.83e+05</td>\n",
       "    </tr>\n",
       "    <tr>\n",
       "      <th>188</th>\n",
       "      <td>32</td>\n",
       "      <td>susan</td>\n",
       "      <td>9.84e+05</td>\n",
       "    </tr>\n",
       "    <tr>\n",
       "      <th>71</th>\n",
       "      <td>64</td>\n",
       "      <td>susan</td>\n",
       "      <td>1.93e+06</td>\n",
       "    </tr>\n",
       "  </tbody>\n",
       "</table>\n",
       "<p>70 rows × 3 columns</p>\n",
       "</div>"
      ],
      "text/plain": [
       "    executable_type benchmark  writes_on_hottest_stack_address\n",
       "236              00   average                         1.29e+05\n",
       "231              08   average                         1.64e+05\n",
       "230              16   average                         2.16e+05\n",
       "235              32   average                         3.06e+05\n",
       "226              64   average                         4.51e+05\n",
       "..              ...       ...                              ...\n",
       "201              00     susan                         1.78e+04\n",
       "136              08     susan                         2.17e+05\n",
       "123              16     susan                         4.83e+05\n",
       "188              32     susan                         9.84e+05\n",
       "71               64     susan                         1.93e+06\n",
       "\n",
       "[70 rows x 3 columns]"
      ]
     },
     "execution_count": 15,
     "metadata": {},
     "output_type": "execute_result"
    }
   ],
   "source": [
    "loop_iterations_benchmark_writes_on_hottest_stack_addresses = benchmark_writes_on_hottest_stack_addresses[\n",
    "    benchmark_writes_on_hottest_stack_addresses['executable_type'].isin(\n",
    "        loop_iterations_executable_type_renaming\n",
    "    )\n",
    "].replace(\n",
    "    to_replace=loop_iterations_executable_type_renaming\n",
    ").sort_values(\n",
    "    by=['benchmark', 'executable_type']\n",
    ")\n",
    "\n",
    "loop_iterations_benchmark_writes_on_hottest_stack_addresses"
   ]
  },
  {
   "cell_type": "code",
   "execution_count": 16,
   "id": "7e4991e5-ef8d-4e1c-8685-1211ac22bf28",
   "metadata": {},
   "outputs": [
    {
     "data": {
      "text/plain": [
       "(<Figure size 1000x500 with 1 Axes>,\n",
       " <AxesSubplot:xlabel='Benchmark', ylabel='Writes on Hottest Stack Address'>)"
      ]
     },
     "execution_count": 16,
     "metadata": {},
     "output_type": "execute_result"
    },
    {
     "data": {
      "application/vnd.jupyter.widget-view+json": {
       "model_id": "13bad33585584922a1a9268ad318136b",
       "version_major": 2,
       "version_minor": 0
      },
      "image/png": "[encoded data removed]",
      "text/html": [
       "\n",
       "            <div style=\"display: inline-block;\">\n",
       "                <div class=\"jupyter-widgets widget-label\" style=\"text-align: center;\">\n",
       "                    Figure\n",
       "                </div>\n",
       "                <img src='data:image/png;base64,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' width=1000.0/>\n",
       "            </div>\n",
       "        "
      ],
      "text/plain": [
       "Canvas(toolbar=Toolbar(toolitems=[('Home', 'Reset original view', 'home', 'home'), ('Back', 'Back to previous …"
      ]
     },
     "metadata": {},
     "output_type": "display_data"
    }
   ],
   "source": [
    "grouped_bar_chart(\n",
    "    groups=loop_iterations_benchmark_writes_on_hottest_stack_addresses['benchmark'].unique(),\n",
    "    labels=loop_iterations_executable_type_renaming.values(),\n",
    "    data_by_label = (\n",
    "        loop_iterations_benchmark_writes_on_hottest_stack_addresses[\n",
    "            loop_iterations_benchmark_writes_on_hottest_stack_addresses['executable_type'] == loop_iterations_executable_type\n",
    "        ]['writes_on_hottest_stack_address']\n",
    "        for loop_iterations_executable_type in loop_iterations_executable_type_renaming.values()\n",
    "    ),\n",
    "    xlabel='Benchmark',\n",
    "    ylabel='Writes on Hottest Stack Address',\n",
    "    log=True\n",
    ")"
   ]
  },
  {
   "cell_type": "code",
   "execution_count": 17,
   "id": "3b47362e-3786-439e-bfce-7b6a26290f1b",
   "metadata": {},
   "outputs": [],
   "source": [
    "_[0].savefig('writes_on_hottest_stack_address_under_different_loop_iterations.pdf')"
   ]
  },
  {
   "cell_type": "code",
   "execution_count": 18,
   "id": "69d7895c-58c1-4321-8411-333cb1dd3e69",
   "metadata": {},
   "outputs": [
    {
     "name": "stdout",
     "output_type": "stream",
     "text": [
      "\\begin{table}\n",
      "\\centering\n",
      "\\caption{Writes on Hottest Stack Address Under Different Loop Iterations}\n",
      "\\label{table:writes_on_hottest_stack_address_under_different_loop_iterations}\n",
      "\\begin{tabular}{lrrrrr}\n",
      "\\toprule\n",
      "benchmark &       00 & 08 Change & 16 Change & 32 Change &  64 Change \\\\\n",
      "\\midrule\n",
      "  average & 1.29e+05 &    27.68\\% &    67.92\\% &   137.89\\% &    250.47\\% \\\\\n",
      "basicmath & 5.60e+04 &    94.31\\% &   406.32\\% &   527.37\\% &    531.60\\% \\\\\n",
      "       bf & 1.56e+05 &     0.00\\% &     0.00\\% &     0.00\\% &      0.00\\% \\\\\n",
      "  bitcnts & 1.18e+02 &   433.90\\% & 1,088.14\\% & 3,194.92\\% &  6,372.88\\% \\\\\n",
      "   crc\\_32 & 1.37e+06 &     0.00\\% &     0.00\\% &     0.00\\% &      0.00\\% \\\\\n",
      " dijkstra & 1.07e+04 &   781.07\\% & 1,660.62\\% & 4,124.89\\% &  8,331.87\\% \\\\\n",
      "      fft & 7.76e+02 &   317.78\\% &   787.11\\% & 1,675.52\\% &  2,893.17\\% \\\\\n",
      " patricia & 2.18e+04 &     0.00\\% &     0.00\\% &     0.00\\% &      0.00\\% \\\\\n",
      "  pbmsrch & 6.10e+01 &   457.38\\% &   929.51\\% & 1,595.08\\% &  2,290.16\\% \\\\\n",
      "    qsort & 2.30e+04 &     0.13\\% &     0.37\\% &     0.88\\% &      1.84\\% \\\\\n",
      "rawcaudio & 1.41e+03 &   513.01\\% & 1,093.07\\% & 2,247.95\\% &  4,978.36\\% \\\\\n",
      "rawdaudio & 1.46e+03 &   497.74\\% & 1,078.85\\% & 2,306.71\\% &  4,821.29\\% \\\\\n",
      "      sha & 1.46e+04 &   747.72\\% & 1,550.89\\% & 3,559.21\\% &  6,296.50\\% \\\\\n",
      "    susan & 1.78e+04 & 1,120.12\\% & 2,609.94\\% & 5,424.05\\% & 10,710.91\\% \\\\\n",
      "\\bottomrule\n",
      "\\end{tabular}\n",
      "\\end{table}\n",
      "\n"
     ]
    }
   ],
   "source": [
    "writes_on_hottest_stack_address_under_different_loop_iterations = calculate_increases(\n",
    "    loop_iterations_benchmark_writes_on_hottest_stack_addresses,\n",
    "    '00',\n",
    "    [\n",
    "        f'{loop_iterations:02}' for loop_iterations in loop_iterations_list\n",
    "    ],\n",
    "    'writes_on_hottest_stack_address',\n",
    "    lambda executable_type: f'{executable_type} Change'\n",
    ").to_latex(\n",
    "    formatters={\n",
    "        f'{executable_type} Change': '{:,.2%}'.format\n",
    "        for executable_type in loop_iterations_executable_type_renaming.values()\n",
    "    },\n",
    "    caption='Writes on Hottest Stack Address Under Different Loop Iterations',\n",
    "    label='table:writes_on_hottest_stack_address_under_different_loop_iterations',\n",
    "    index=False\n",
    ")\n",
    "\n",
    "print(writes_on_hottest_stack_address_under_different_loop_iterations)"
   ]
  },
  {
   "cell_type": "code",
   "execution_count": null,
   "id": "ab1ecd07-5270-4732-8e18-097161ca45d1",
   "metadata": {},
   "outputs": [],
   "source": []
  }
 ],
 "metadata": {
  "kernelspec": {
   "display_name": "Python 3 (ipykernel)",
   "language": "python",
   "name": "python3"
  },
  "language_info": {
   "codemirror_mode": {
    "name": "ipython",
    "version": 3
   },
   "file_extension": ".py",
   "mimetype": "text/x-python",
   "name": "python",
   "nbconvert_exporter": "python",
   "pygments_lexer": "ipython3",
   "version": "3.7.12"
  }
 },
 "nbformat": 4,
 "nbformat_minor": 5
}
