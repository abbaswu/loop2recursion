{
 "cells": [
  {
   "cell_type": "code",
   "execution_count": 1,
   "id": "b6283102-8ecb-4046-9b54-3aa3ff55045a",
   "metadata": {},
   "outputs": [],
   "source": [
    "from matplotlib import pyplot as plt\n",
    "\n",
    "%matplotlib ipympl\n",
    "\n",
    "plt.rcParams['figure.figsize'] = [10, 5]\n",
    "plt.rcParams['font.size'] = 16\n",
    "# 用来正常显示中文标签\n",
    "plt.rcParams['font.family'] = 'sans-serif' \n",
    "plt.rcParams['figure.autolayout'] = True\n",
    "# 用来正常显示负号\n",
    "plt.rcParams['axes.unicode_minus'] = False \n",
    "plt.rcParams['axes.xmargin'] = 0\n",
    "plt.rcParams['axes.ymargin'] = 0"
   ]
  },
  {
   "cell_type": "code",
   "execution_count": 2,
   "id": "cc551b8b-3434-4d4d-b2d3-a897068c8dd9",
   "metadata": {},
   "outputs": [],
   "source": [
    "import numpy as np\n",
    "import pandas as pd\n",
    "import pylatex\n",
    "pd.options.display.float_format = '{:.2e}'.format\n",
    "\n",
    "from calculate_increases import calculate_increases\n",
    "from line_chart_with_multiple_lines import line_chart_with_multiple_lines\n",
    "from grouped_bar_chart import grouped_bar_chart\n",
    "from parse_data import *"
   ]
  },
  {
   "cell_type": "code",
   "execution_count": 3,
   "id": "68d9a435-fbc5-4ac2-a21d-2ea7fbd55d39",
   "metadata": {},
   "outputs": [],
   "source": [
    "benchmark_max_stack_usages = parse_profile_data_in_directory_to_dataframe(\n",
    "    parse_json_format_profile_data_directory('benchmark_max_stack_usages', 'stack_size'),\n",
    "    'max_stack_usage',\n",
    "    True\n",
    ")\n",
    "\n",
    "benchmark_instruction_counts = parse_profile_data_in_directory_to_dataframe(\n",
    "    parse_benchmark_instruction_counts_directory('benchmark_instruction_counts'),\n",
    "    'instruction_count',\n",
    "    True\n",
    ")\n",
    "\n",
    "benchmark_writes_on_hottest_stack_addresses = parse_profile_data_in_directory_to_dataframe(\n",
    "    parse_json_format_profile_data_directory('benchmark_writes_on_hottest_stack_addresses', 'writes'),\n",
    "    'writes_on_hottest_stack_address',\n",
    "    True\n",
    ")\n",
    "\n",
    "max_number_of_stack_frames_on_a_stack_address = parse_profile_data_in_directory_to_dataframe(\n",
    "    parse_json_format_profile_data_directory('max_number_of_stack_frames_on_a_stack_address', 'number_of_stack_frames'),\n",
    "    'max_number_of_stack_frames_on_a_stack_address',\n",
    "    True\n",
    ")\n",
    "\n",
    "writes_on_hottest_address_in_stack_frames = parse_profile_data_in_directory_to_dataframe(\n",
    "    parse_json_format_profile_data_directory('writes_on_hottest_address_in_stack_frames', 'writes'),\n",
    "    'writes_on_hottest_address_in_stack_frames',\n",
    "    True\n",
    ")"
   ]
  },
  {
   "cell_type": "code",
   "execution_count": 4,
   "id": "44272ba5-3551-43d0-b98c-c9fe68088aea",
   "metadata": {},
   "outputs": [],
   "source": [
    "import re"
   ]
  },
  {
   "cell_type": "code",
   "execution_count": 5,
   "id": "a5aad7c2-48b9-4779-8b34-d65e9692d1ab",
   "metadata": {},
   "outputs": [
    {
     "data": {
      "text/html": [
       "<div>\n",
       "<style scoped>\n",
       "    .dataframe tbody tr th:only-of-type {\n",
       "        vertical-align: middle;\n",
       "    }\n",
       "\n",
       "    .dataframe tbody tr th {\n",
       "        vertical-align: top;\n",
       "    }\n",
       "\n",
       "    .dataframe thead th {\n",
       "        text-align: right;\n",
       "    }\n",
       "</style>\n",
       "<table border=\"1\" class=\"dataframe\">\n",
       "  <thead>\n",
       "    <tr style=\"text-align: right;\">\n",
       "      <th></th>\n",
       "      <th>executable_type</th>\n",
       "      <th>benchmark</th>\n",
       "      <th>max_stack_usage</th>\n",
       "    </tr>\n",
       "  </thead>\n",
       "  <tbody>\n",
       "    <tr>\n",
       "      <th>0</th>\n",
       "      <td>new_loop2recursion-recursion_depth_limit-256</td>\n",
       "      <td>pbmsrch.json</td>\n",
       "      <td>1.45e+04</td>\n",
       "    </tr>\n",
       "    <tr>\n",
       "      <th>1</th>\n",
       "      <td>new_loop2recursion-recursion_depth_limit-256</td>\n",
       "      <td>crc_32.json</td>\n",
       "      <td>8.50e+03</td>\n",
       "    </tr>\n",
       "    <tr>\n",
       "      <th>2</th>\n",
       "      <td>new_loop2recursion-recursion_depth_limit-256</td>\n",
       "      <td>rawdaudio.json</td>\n",
       "      <td>4.92e+04</td>\n",
       "    </tr>\n",
       "    <tr>\n",
       "      <th>3</th>\n",
       "      <td>new_loop2recursion-recursion_depth_limit-256</td>\n",
       "      <td>patricia.json</td>\n",
       "      <td>1.95e+04</td>\n",
       "    </tr>\n",
       "    <tr>\n",
       "      <th>4</th>\n",
       "      <td>new_loop2recursion-recursion_depth_limit-256</td>\n",
       "      <td>qsort.json</td>\n",
       "      <td>7.69e+06</td>\n",
       "    </tr>\n",
       "    <tr>\n",
       "      <th>...</th>\n",
       "      <td>...</td>\n",
       "      <td>...</td>\n",
       "      <td>...</td>\n",
       "    </tr>\n",
       "    <tr>\n",
       "      <th>261</th>\n",
       "      <td>unoptimized_loop2recursion-recursion_depth_lim...</td>\n",
       "      <td>average</td>\n",
       "      <td>6.74e+05</td>\n",
       "    </tr>\n",
       "    <tr>\n",
       "      <th>262</th>\n",
       "      <td>new_loop2recursion-recursion_depth_limit-32</td>\n",
       "      <td>average</td>\n",
       "      <td>6.27e+05</td>\n",
       "    </tr>\n",
       "    <tr>\n",
       "      <th>263</th>\n",
       "      <td>new_loop2recursion-loop_iterations-32</td>\n",
       "      <td>average</td>\n",
       "      <td>9.21e+05</td>\n",
       "    </tr>\n",
       "    <tr>\n",
       "      <th>264</th>\n",
       "      <td>new_loop2recursion</td>\n",
       "      <td>average</td>\n",
       "      <td>4.49e+06</td>\n",
       "    </tr>\n",
       "    <tr>\n",
       "      <th>265</th>\n",
       "      <td>unoptimized_loop2recursion-recursion_depth_lim...</td>\n",
       "      <td>average</td>\n",
       "      <td>6.26e+05</td>\n",
       "    </tr>\n",
       "  </tbody>\n",
       "</table>\n",
       "<p>266 rows × 3 columns</p>\n",
       "</div>"
      ],
      "text/plain": [
       "                                       executable_type       benchmark  \\\n",
       "0         new_loop2recursion-recursion_depth_limit-256    pbmsrch.json   \n",
       "1         new_loop2recursion-recursion_depth_limit-256     crc_32.json   \n",
       "2         new_loop2recursion-recursion_depth_limit-256  rawdaudio.json   \n",
       "3         new_loop2recursion-recursion_depth_limit-256   patricia.json   \n",
       "4         new_loop2recursion-recursion_depth_limit-256      qsort.json   \n",
       "..                                                 ...             ...   \n",
       "261  unoptimized_loop2recursion-recursion_depth_lim...         average   \n",
       "262        new_loop2recursion-recursion_depth_limit-32         average   \n",
       "263              new_loop2recursion-loop_iterations-32         average   \n",
       "264                                 new_loop2recursion         average   \n",
       "265  unoptimized_loop2recursion-recursion_depth_lim...         average   \n",
       "\n",
       "     max_stack_usage  \n",
       "0           1.45e+04  \n",
       "1           8.50e+03  \n",
       "2           4.92e+04  \n",
       "3           1.95e+04  \n",
       "4           7.69e+06  \n",
       "..               ...  \n",
       "261         6.74e+05  \n",
       "262         6.27e+05  \n",
       "263         9.21e+05  \n",
       "264         4.49e+06  \n",
       "265         6.26e+05  \n",
       "\n",
       "[266 rows x 3 columns]"
      ]
     },
     "execution_count": 5,
     "metadata": {},
     "output_type": "execute_result"
    }
   ],
   "source": [
    "benchmark_max_stack_usages"
   ]
  },
  {
   "cell_type": "code",
   "execution_count": 6,
   "id": "eca79b5b-ad59-4faa-96e5-e7bb95f3c8a6",
   "metadata": {},
   "outputs": [
    {
     "data": {
      "text/plain": [
       "[8, 16, 32, 64]"
      ]
     },
     "execution_count": 6,
     "metadata": {},
     "output_type": "execute_result"
    }
   ],
   "source": [
    "def f(types_of_benchmarks):\n",
    "    recursion_depth_limit_benchmark_type_pattern = re.compile(r'new_loop2recursion-recursion_depth_limit-(\\d+)')\n",
    "    for benchmark_type in types_of_benchmarks:\n",
    "        match = recursion_depth_limit_benchmark_type_pattern.match(benchmark_type)\n",
    "        if match:\n",
    "            recursion_depth_limit_string, *_ = match.groups()\n",
    "            recursion_depth_limit = int(recursion_depth_limit_string)\n",
    "            yield recursion_depth_limit\n",
    "\n",
    "recursion_depth_limit_list = list(f(benchmark_max_stack_usages['executable_type'].unique()))\n",
    "recursion_depth_limit_list.sort()\n",
    "recursion_depth_limit_list = [i for i in recursion_depth_limit_list if i < 128]\n",
    "recursion_depth_limit_list"
   ]
  },
  {
   "cell_type": "code",
   "execution_count": 7,
   "id": "d15dd0a5-f002-4ac7-916f-d490b840d9ac",
   "metadata": {},
   "outputs": [
    {
     "data": {
      "text/plain": [
       "[8, 16, 32, 64]"
      ]
     },
     "execution_count": 7,
     "metadata": {},
     "output_type": "execute_result"
    }
   ],
   "source": [
    "def g(types_of_benchmarks):\n",
    "    loop_iterations_benchmark_type_pattern = re.compile(r'new_loop2recursion-loop_iterations-(\\d+)')\n",
    "    for benchmark_type in types_of_benchmarks:\n",
    "        match = loop_iterations_benchmark_type_pattern.match(benchmark_type)\n",
    "        if match:\n",
    "            loop_iterations_string, *_ = match.groups()\n",
    "            loop_iterations = int(loop_iterations_string)\n",
    "            yield loop_iterations\n",
    "\n",
    "loop_iterations_list = list(g(benchmark_max_stack_usages['executable_type'].unique()))\n",
    "loop_iterations_list.sort()\n",
    "loop_iterations_list"
   ]
  },
  {
   "cell_type": "code",
   "execution_count": 8,
   "id": "c0b60499-4c92-4fe4-82ba-ff0e8ce89301",
   "metadata": {},
   "outputs": [
    {
     "data": {
      "text/plain": [
       "{'new_loop2recursion-recursion_depth_limit-8': '08',\n",
       " 'new_loop2recursion-recursion_depth_limit-16': '16',\n",
       " 'new_loop2recursion-recursion_depth_limit-32': '32',\n",
       " 'new_loop2recursion-recursion_depth_limit-64': '64',\n",
       " 'new_loop2recursion': 'Unlimited'}"
      ]
     },
     "execution_count": 8,
     "metadata": {},
     "output_type": "execute_result"
    }
   ],
   "source": [
    "recursion_depth_limit_executable_type_renaming = {\n",
    "    f'new_loop2recursion-recursion_depth_limit-{recursion_depth_limit}': f'{recursion_depth_limit:02}'\n",
    "    for recursion_depth_limit in recursion_depth_limit_list\n",
    "}\n",
    "\n",
    "recursion_depth_limit_executable_type_renaming['new_loop2recursion'] = 'Unlimited'\n",
    "\n",
    "recursion_depth_limit_executable_type_renaming"
   ]
  },
  {
   "cell_type": "code",
   "execution_count": 9,
   "id": "82bbc097-7584-4c77-a35e-aeda1fb4a154",
   "metadata": {},
   "outputs": [
    {
     "data": {
      "text/plain": [
       "{'new_loop2recursion': '00',\n",
       " 'new_loop2recursion-loop_iterations-8': '08',\n",
       " 'new_loop2recursion-loop_iterations-16': '16',\n",
       " 'new_loop2recursion-loop_iterations-32': '32',\n",
       " 'new_loop2recursion-loop_iterations-64': '64'}"
      ]
     },
     "execution_count": 9,
     "metadata": {},
     "output_type": "execute_result"
    }
   ],
   "source": [
    "loop_iterations_executable_type_renaming = { 'new_loop2recursion': f'{0:02}' }\n",
    "\n",
    "for loop_iterations in loop_iterations_list:\n",
    "    loop_iterations_executable_type_renaming[f'new_loop2recursion-loop_iterations-{loop_iterations}'] = f'{loop_iterations:02}'\n",
    "\n",
    "loop_iterations_executable_type_renaming"
   ]
  },
  {
   "cell_type": "code",
   "execution_count": 10,
   "id": "936db3d6-1027-44e8-89cb-149e01d55109",
   "metadata": {},
   "outputs": [
    {
     "data": {
      "text/html": [
       "<div>\n",
       "<style scoped>\n",
       "    .dataframe tbody tr th:only-of-type {\n",
       "        vertical-align: middle;\n",
       "    }\n",
       "\n",
       "    .dataframe tbody tr th {\n",
       "        vertical-align: top;\n",
       "    }\n",
       "\n",
       "    .dataframe thead th {\n",
       "        text-align: right;\n",
       "    }\n",
       "</style>\n",
       "<table border=\"1\" class=\"dataframe\">\n",
       "  <thead>\n",
       "    <tr style=\"text-align: right;\">\n",
       "      <th></th>\n",
       "      <th>executable_type</th>\n",
       "      <th>benchmark</th>\n",
       "      <th>max_stack_usage</th>\n",
       "    </tr>\n",
       "  </thead>\n",
       "  <tbody>\n",
       "    <tr>\n",
       "      <th>252</th>\n",
       "      <td>08</td>\n",
       "      <td>average</td>\n",
       "      <td>6.25e+05</td>\n",
       "    </tr>\n",
       "    <tr>\n",
       "      <th>254</th>\n",
       "      <td>16</td>\n",
       "      <td>average</td>\n",
       "      <td>6.25e+05</td>\n",
       "    </tr>\n",
       "    <tr>\n",
       "      <th>262</th>\n",
       "      <td>32</td>\n",
       "      <td>average</td>\n",
       "      <td>6.27e+05</td>\n",
       "    </tr>\n",
       "    <tr>\n",
       "      <th>250</th>\n",
       "      <td>64</td>\n",
       "      <td>average</td>\n",
       "      <td>6.30e+05</td>\n",
       "    </tr>\n",
       "    <tr>\n",
       "      <th>264</th>\n",
       "      <td>Unlimited</td>\n",
       "      <td>average</td>\n",
       "      <td>4.49e+06</td>\n",
       "    </tr>\n",
       "    <tr>\n",
       "      <th>...</th>\n",
       "      <td>...</td>\n",
       "      <td>...</td>\n",
       "      <td>...</td>\n",
       "    </tr>\n",
       "    <tr>\n",
       "      <th>74</th>\n",
       "      <td>08</td>\n",
       "      <td>susan.json</td>\n",
       "      <td>3.72e+05</td>\n",
       "    </tr>\n",
       "    <tr>\n",
       "      <th>100</th>\n",
       "      <td>16</td>\n",
       "      <td>susan.json</td>\n",
       "      <td>3.72e+05</td>\n",
       "    </tr>\n",
       "    <tr>\n",
       "      <th>204</th>\n",
       "      <td>32</td>\n",
       "      <td>susan.json</td>\n",
       "      <td>3.74e+05</td>\n",
       "    </tr>\n",
       "    <tr>\n",
       "      <th>48</th>\n",
       "      <td>64</td>\n",
       "      <td>susan.json</td>\n",
       "      <td>3.83e+05</td>\n",
       "    </tr>\n",
       "    <tr>\n",
       "      <th>230</th>\n",
       "      <td>Unlimited</td>\n",
       "      <td>susan.json</td>\n",
       "      <td>3.81e+05</td>\n",
       "    </tr>\n",
       "  </tbody>\n",
       "</table>\n",
       "<p>70 rows × 3 columns</p>\n",
       "</div>"
      ],
      "text/plain": [
       "    executable_type   benchmark  max_stack_usage\n",
       "252              08     average         6.25e+05\n",
       "254              16     average         6.25e+05\n",
       "262              32     average         6.27e+05\n",
       "250              64     average         6.30e+05\n",
       "264       Unlimited     average         4.49e+06\n",
       "..              ...         ...              ...\n",
       "74               08  susan.json         3.72e+05\n",
       "100              16  susan.json         3.72e+05\n",
       "204              32  susan.json         3.74e+05\n",
       "48               64  susan.json         3.83e+05\n",
       "230       Unlimited  susan.json         3.81e+05\n",
       "\n",
       "[70 rows x 3 columns]"
      ]
     },
     "execution_count": 10,
     "metadata": {},
     "output_type": "execute_result"
    }
   ],
   "source": [
    "recursion_depth_limit_benchmark_max_stack_usages = benchmark_max_stack_usages[\n",
    "    benchmark_max_stack_usages['executable_type'].isin(\n",
    "        recursion_depth_limit_executable_type_renaming\n",
    "    )\n",
    "].replace(\n",
    "    to_replace=recursion_depth_limit_executable_type_renaming\n",
    ").sort_values(\n",
    "    by=['benchmark', 'executable_type']\n",
    ")\n",
    "\n",
    "recursion_depth_limit_benchmark_max_stack_usages"
   ]
  },
  {
   "cell_type": "code",
   "execution_count": 11,
   "id": "2de6d210-0941-43b4-b5cc-3c6d82838b31",
   "metadata": {},
   "outputs": [
    {
     "data": {
      "text/plain": [
       "array([624776.61538462, 625425.23076923, 626862.76923077, 629828.92307692])"
      ]
     },
     "execution_count": 11,
     "metadata": {},
     "output_type": "execute_result"
    }
   ],
   "source": [
    "average_recursion_depth_limit_benchmark_max_stack_usages = recursion_depth_limit_benchmark_max_stack_usages[\n",
    "    recursion_depth_limit_benchmark_max_stack_usages['benchmark'] == 'average'\n",
    "]['max_stack_usage'].values[:-1]\n",
    "average_recursion_depth_limit_benchmark_max_stack_usages"
   ]
  },
  {
   "cell_type": "code",
   "execution_count": 12,
   "id": "cb23a413-a174-44da-9b48-23bbaf6daa70",
   "metadata": {},
   "outputs": [
    {
     "data": {
      "text/html": [
       "<div>\n",
       "<style scoped>\n",
       "    .dataframe tbody tr th:only-of-type {\n",
       "        vertical-align: middle;\n",
       "    }\n",
       "\n",
       "    .dataframe tbody tr th {\n",
       "        vertical-align: top;\n",
       "    }\n",
       "\n",
       "    .dataframe thead th {\n",
       "        text-align: right;\n",
       "    }\n",
       "</style>\n",
       "<table border=\"1\" class=\"dataframe\">\n",
       "  <thead>\n",
       "    <tr style=\"text-align: right;\">\n",
       "      <th></th>\n",
       "      <th>executable_type</th>\n",
       "      <th>benchmark</th>\n",
       "      <th>writes_on_hottest_stack_address</th>\n",
       "    </tr>\n",
       "  </thead>\n",
       "  <tbody>\n",
       "    <tr>\n",
       "      <th>252</th>\n",
       "      <td>08</td>\n",
       "      <td>average</td>\n",
       "      <td>2.53e+05</td>\n",
       "    </tr>\n",
       "    <tr>\n",
       "      <th>254</th>\n",
       "      <td>16</td>\n",
       "      <td>average</td>\n",
       "      <td>1.89e+05</td>\n",
       "    </tr>\n",
       "    <tr>\n",
       "      <th>262</th>\n",
       "      <td>32</td>\n",
       "      <td>average</td>\n",
       "      <td>1.62e+05</td>\n",
       "    </tr>\n",
       "    <tr>\n",
       "      <th>250</th>\n",
       "      <td>64</td>\n",
       "      <td>average</td>\n",
       "      <td>1.46e+05</td>\n",
       "    </tr>\n",
       "    <tr>\n",
       "      <th>264</th>\n",
       "      <td>Unlimited</td>\n",
       "      <td>average</td>\n",
       "      <td>1.29e+05</td>\n",
       "    </tr>\n",
       "    <tr>\n",
       "      <th>...</th>\n",
       "      <td>...</td>\n",
       "      <td>...</td>\n",
       "      <td>...</td>\n",
       "    </tr>\n",
       "    <tr>\n",
       "      <th>74</th>\n",
       "      <td>08</td>\n",
       "      <td>susan.json</td>\n",
       "      <td>1.40e+05</td>\n",
       "    </tr>\n",
       "    <tr>\n",
       "      <th>100</th>\n",
       "      <td>16</td>\n",
       "      <td>susan.json</td>\n",
       "      <td>6.86e+04</td>\n",
       "    </tr>\n",
       "    <tr>\n",
       "      <th>204</th>\n",
       "      <td>32</td>\n",
       "      <td>susan.json</td>\n",
       "      <td>3.72e+04</td>\n",
       "    </tr>\n",
       "    <tr>\n",
       "      <th>48</th>\n",
       "      <td>64</td>\n",
       "      <td>susan.json</td>\n",
       "      <td>1.79e+04</td>\n",
       "    </tr>\n",
       "    <tr>\n",
       "      <th>230</th>\n",
       "      <td>Unlimited</td>\n",
       "      <td>susan.json</td>\n",
       "      <td>1.78e+04</td>\n",
       "    </tr>\n",
       "  </tbody>\n",
       "</table>\n",
       "<p>70 rows × 3 columns</p>\n",
       "</div>"
      ],
      "text/plain": [
       "    executable_type   benchmark  writes_on_hottest_stack_address\n",
       "252              08     average                         2.53e+05\n",
       "254              16     average                         1.89e+05\n",
       "262              32     average                         1.62e+05\n",
       "250              64     average                         1.46e+05\n",
       "264       Unlimited     average                         1.29e+05\n",
       "..              ...         ...                              ...\n",
       "74               08  susan.json                         1.40e+05\n",
       "100              16  susan.json                         6.86e+04\n",
       "204              32  susan.json                         3.72e+04\n",
       "48               64  susan.json                         1.79e+04\n",
       "230       Unlimited  susan.json                         1.78e+04\n",
       "\n",
       "[70 rows x 3 columns]"
      ]
     },
     "execution_count": 12,
     "metadata": {},
     "output_type": "execute_result"
    }
   ],
   "source": [
    "recursion_depth_limit_benchmark_writes_on_hottest_stack_addresses = benchmark_writes_on_hottest_stack_addresses[\n",
    "    benchmark_writes_on_hottest_stack_addresses['executable_type'].isin(\n",
    "        recursion_depth_limit_executable_type_renaming\n",
    "    )\n",
    "].replace(\n",
    "    to_replace=recursion_depth_limit_executable_type_renaming\n",
    ").sort_values(\n",
    "    by=['benchmark', 'executable_type']\n",
    ")\n",
    "\n",
    "recursion_depth_limit_benchmark_writes_on_hottest_stack_addresses"
   ]
  },
  {
   "cell_type": "code",
   "execution_count": 13,
   "id": "57f5f393-aace-470c-86d4-a13c40d923a5",
   "metadata": {},
   "outputs": [
    {
     "data": {
      "text/plain": [
       "array([253315.07692308, 189150.92307692, 161818.38461538, 145674.15384615])"
      ]
     },
     "execution_count": 13,
     "metadata": {},
     "output_type": "execute_result"
    }
   ],
   "source": [
    "average_recursion_depth_limit_benchmark_writes_on_hottest_stack_addresses = recursion_depth_limit_benchmark_writes_on_hottest_stack_addresses[\n",
    "    recursion_depth_limit_benchmark_writes_on_hottest_stack_addresses['benchmark'] == 'average'\n",
    "]['writes_on_hottest_stack_address'].values[:-1]\n",
    "average_recursion_depth_limit_benchmark_writes_on_hottest_stack_addresses"
   ]
  },
  {
   "cell_type": "code",
   "execution_count": 14,
   "id": "4848677c-e362-4a70-b7c2-3beb5b37e920",
   "metadata": {},
   "outputs": [
    {
     "data": {
      "text/html": [
       "<div>\n",
       "<style scoped>\n",
       "    .dataframe tbody tr th:only-of-type {\n",
       "        vertical-align: middle;\n",
       "    }\n",
       "\n",
       "    .dataframe tbody tr th {\n",
       "        vertical-align: top;\n",
       "    }\n",
       "\n",
       "    .dataframe thead th {\n",
       "        text-align: right;\n",
       "    }\n",
       "</style>\n",
       "<table border=\"1\" class=\"dataframe\">\n",
       "  <thead>\n",
       "    <tr style=\"text-align: right;\">\n",
       "      <th></th>\n",
       "      <th>executable_type</th>\n",
       "      <th>benchmark</th>\n",
       "      <th>max_stack_usage</th>\n",
       "    </tr>\n",
       "  </thead>\n",
       "  <tbody>\n",
       "    <tr>\n",
       "      <th>264</th>\n",
       "      <td>00</td>\n",
       "      <td>average</td>\n",
       "      <td>4.49e+06</td>\n",
       "    </tr>\n",
       "    <tr>\n",
       "      <th>259</th>\n",
       "      <td>08</td>\n",
       "      <td>average</td>\n",
       "      <td>1.82e+06</td>\n",
       "    </tr>\n",
       "    <tr>\n",
       "      <th>256</th>\n",
       "      <td>16</td>\n",
       "      <td>average</td>\n",
       "      <td>1.22e+06</td>\n",
       "    </tr>\n",
       "    <tr>\n",
       "      <th>263</th>\n",
       "      <td>32</td>\n",
       "      <td>average</td>\n",
       "      <td>9.21e+05</td>\n",
       "    </tr>\n",
       "    <tr>\n",
       "      <th>253</th>\n",
       "      <td>64</td>\n",
       "      <td>average</td>\n",
       "      <td>7.73e+05</td>\n",
       "    </tr>\n",
       "    <tr>\n",
       "      <th>...</th>\n",
       "      <td>...</td>\n",
       "      <td>...</td>\n",
       "      <td>...</td>\n",
       "    </tr>\n",
       "    <tr>\n",
       "      <th>230</th>\n",
       "      <td>00</td>\n",
       "      <td>susan.json</td>\n",
       "      <td>3.81e+05</td>\n",
       "    </tr>\n",
       "    <tr>\n",
       "      <th>165</th>\n",
       "      <td>08</td>\n",
       "      <td>susan.json</td>\n",
       "      <td>3.72e+05</td>\n",
       "    </tr>\n",
       "    <tr>\n",
       "      <th>126</th>\n",
       "      <td>16</td>\n",
       "      <td>susan.json</td>\n",
       "      <td>3.72e+05</td>\n",
       "    </tr>\n",
       "    <tr>\n",
       "      <th>217</th>\n",
       "      <td>32</td>\n",
       "      <td>susan.json</td>\n",
       "      <td>3.72e+05</td>\n",
       "    </tr>\n",
       "    <tr>\n",
       "      <th>87</th>\n",
       "      <td>64</td>\n",
       "      <td>susan.json</td>\n",
       "      <td>3.72e+05</td>\n",
       "    </tr>\n",
       "  </tbody>\n",
       "</table>\n",
       "<p>70 rows × 3 columns</p>\n",
       "</div>"
      ],
      "text/plain": [
       "    executable_type   benchmark  max_stack_usage\n",
       "264              00     average         4.49e+06\n",
       "259              08     average         1.82e+06\n",
       "256              16     average         1.22e+06\n",
       "263              32     average         9.21e+05\n",
       "253              64     average         7.73e+05\n",
       "..              ...         ...              ...\n",
       "230              00  susan.json         3.81e+05\n",
       "165              08  susan.json         3.72e+05\n",
       "126              16  susan.json         3.72e+05\n",
       "217              32  susan.json         3.72e+05\n",
       "87               64  susan.json         3.72e+05\n",
       "\n",
       "[70 rows x 3 columns]"
      ]
     },
     "execution_count": 14,
     "metadata": {},
     "output_type": "execute_result"
    }
   ],
   "source": [
    "loop_iterations_benchmark_max_stack_usages = benchmark_max_stack_usages[\n",
    "    benchmark_max_stack_usages['executable_type'].isin(\n",
    "        loop_iterations_executable_type_renaming\n",
    "    )\n",
    "].replace(\n",
    "    to_replace=loop_iterations_executable_type_renaming\n",
    ").sort_values(\n",
    "    by=['benchmark', 'executable_type']\n",
    ")\n",
    "\n",
    "loop_iterations_benchmark_max_stack_usages"
   ]
  },
  {
   "cell_type": "code",
   "execution_count": 15,
   "id": "8c6efd2a-8635-47aa-a47b-428f9f70ad3b",
   "metadata": {},
   "outputs": [
    {
     "data": {
      "text/plain": [
       "array([1819961.84615385, 1220800.        ,  921387.07692308,\n",
       "        772502.15384615])"
      ]
     },
     "execution_count": 15,
     "metadata": {},
     "output_type": "execute_result"
    }
   ],
   "source": [
    "average_loop_iterations_benchmark_max_stack_usages = loop_iterations_benchmark_max_stack_usages[\n",
    "    loop_iterations_benchmark_max_stack_usages['benchmark'] == 'average'\n",
    "]['max_stack_usage'].values[1:]\n",
    "average_loop_iterations_benchmark_max_stack_usages"
   ]
  },
  {
   "cell_type": "code",
   "execution_count": 16,
   "id": "ba387677-7823-4944-86f8-d4324c0c11c4",
   "metadata": {},
   "outputs": [
    {
     "data": {
      "text/html": [
       "<div>\n",
       "<style scoped>\n",
       "    .dataframe tbody tr th:only-of-type {\n",
       "        vertical-align: middle;\n",
       "    }\n",
       "\n",
       "    .dataframe tbody tr th {\n",
       "        vertical-align: top;\n",
       "    }\n",
       "\n",
       "    .dataframe thead th {\n",
       "        text-align: right;\n",
       "    }\n",
       "</style>\n",
       "<table border=\"1\" class=\"dataframe\">\n",
       "  <thead>\n",
       "    <tr style=\"text-align: right;\">\n",
       "      <th></th>\n",
       "      <th>executable_type</th>\n",
       "      <th>benchmark</th>\n",
       "      <th>writes_on_hottest_stack_address</th>\n",
       "    </tr>\n",
       "  </thead>\n",
       "  <tbody>\n",
       "    <tr>\n",
       "      <th>264</th>\n",
       "      <td>00</td>\n",
       "      <td>average</td>\n",
       "      <td>1.29e+05</td>\n",
       "    </tr>\n",
       "    <tr>\n",
       "      <th>259</th>\n",
       "      <td>08</td>\n",
       "      <td>average</td>\n",
       "      <td>1.64e+05</td>\n",
       "    </tr>\n",
       "    <tr>\n",
       "      <th>256</th>\n",
       "      <td>16</td>\n",
       "      <td>average</td>\n",
       "      <td>2.16e+05</td>\n",
       "    </tr>\n",
       "    <tr>\n",
       "      <th>263</th>\n",
       "      <td>32</td>\n",
       "      <td>average</td>\n",
       "      <td>3.06e+05</td>\n",
       "    </tr>\n",
       "    <tr>\n",
       "      <th>253</th>\n",
       "      <td>64</td>\n",
       "      <td>average</td>\n",
       "      <td>4.51e+05</td>\n",
       "    </tr>\n",
       "    <tr>\n",
       "      <th>...</th>\n",
       "      <td>...</td>\n",
       "      <td>...</td>\n",
       "      <td>...</td>\n",
       "    </tr>\n",
       "    <tr>\n",
       "      <th>230</th>\n",
       "      <td>00</td>\n",
       "      <td>susan.json</td>\n",
       "      <td>1.78e+04</td>\n",
       "    </tr>\n",
       "    <tr>\n",
       "      <th>165</th>\n",
       "      <td>08</td>\n",
       "      <td>susan.json</td>\n",
       "      <td>2.17e+05</td>\n",
       "    </tr>\n",
       "    <tr>\n",
       "      <th>126</th>\n",
       "      <td>16</td>\n",
       "      <td>susan.json</td>\n",
       "      <td>4.83e+05</td>\n",
       "    </tr>\n",
       "    <tr>\n",
       "      <th>217</th>\n",
       "      <td>32</td>\n",
       "      <td>susan.json</td>\n",
       "      <td>9.84e+05</td>\n",
       "    </tr>\n",
       "    <tr>\n",
       "      <th>87</th>\n",
       "      <td>64</td>\n",
       "      <td>susan.json</td>\n",
       "      <td>1.93e+06</td>\n",
       "    </tr>\n",
       "  </tbody>\n",
       "</table>\n",
       "<p>70 rows × 3 columns</p>\n",
       "</div>"
      ],
      "text/plain": [
       "    executable_type   benchmark  writes_on_hottest_stack_address\n",
       "264              00     average                         1.29e+05\n",
       "259              08     average                         1.64e+05\n",
       "256              16     average                         2.16e+05\n",
       "263              32     average                         3.06e+05\n",
       "253              64     average                         4.51e+05\n",
       "..              ...         ...                              ...\n",
       "230              00  susan.json                         1.78e+04\n",
       "165              08  susan.json                         2.17e+05\n",
       "126              16  susan.json                         4.83e+05\n",
       "217              32  susan.json                         9.84e+05\n",
       "87               64  susan.json                         1.93e+06\n",
       "\n",
       "[70 rows x 3 columns]"
      ]
     },
     "execution_count": 16,
     "metadata": {},
     "output_type": "execute_result"
    }
   ],
   "source": [
    "loop_iterations_benchmark_writes_on_hottest_stack_addresses = benchmark_writes_on_hottest_stack_addresses[\n",
    "    benchmark_writes_on_hottest_stack_addresses['executable_type'].isin(\n",
    "        loop_iterations_executable_type_renaming\n",
    "    )\n",
    "].replace(\n",
    "    to_replace=loop_iterations_executable_type_renaming\n",
    ").sort_values(\n",
    "    by=['benchmark', 'executable_type']\n",
    ")\n",
    "\n",
    "loop_iterations_benchmark_writes_on_hottest_stack_addresses"
   ]
  },
  {
   "cell_type": "code",
   "execution_count": 17,
   "id": "e49dde45-b992-47d7-a939-b5aa14b68e99",
   "metadata": {},
   "outputs": [
    {
     "data": {
      "text/plain": [
       "array([164266.61538462, 216038.        , 306051.07692308, 450901.07692308])"
      ]
     },
     "execution_count": 17,
     "metadata": {},
     "output_type": "execute_result"
    }
   ],
   "source": [
    "average_loop_iterations_benchmark_writes_on_hottest_stack_addresses = loop_iterations_benchmark_writes_on_hottest_stack_addresses[\n",
    "    loop_iterations_benchmark_writes_on_hottest_stack_addresses['benchmark'] == 'average'\n",
    "]['writes_on_hottest_stack_address'].values[1:]\n",
    "average_loop_iterations_benchmark_writes_on_hottest_stack_addresses"
   ]
  },
  {
   "cell_type": "code",
   "execution_count": 18,
   "id": "f42a23a0-67a0-4dd0-991c-bd57db5a23f1",
   "metadata": {},
   "outputs": [
    {
     "name": "stdout",
     "output_type": "stream",
     "text": [
      "\\begin{table}\n",
      "\\centering\n",
      "\\caption{Average Maximum Stack Usages and Average Writes on Hottest Stack Address Under Different Recursion Depth Limits}\n",
      "\\label{table:average_maximum_stack_usages_and_average_writes_on_hottest_stack_address_under_different_recursion_depth_limits}\n",
      "\\begin{tabular}{lrr}\n",
      "\\toprule\n",
      "Recursion Depth Limit &  Average Maximum Stack Usages &  Average Writes on Hottest Stack Address \\\\\n",
      "\\midrule\n",
      "                   08 &                      6.25e+05 &                                 2.53e+05 \\\\\n",
      "                   16 &                      6.25e+05 &                                 1.89e+05 \\\\\n",
      "                   32 &                      6.27e+05 &                                 1.62e+05 \\\\\n",
      "                   64 &                      6.30e+05 &                                 1.46e+05 \\\\\n",
      "\\bottomrule\n",
      "\\end{tabular}\n",
      "\\end{table}\n",
      "\n"
     ]
    }
   ],
   "source": [
    "average_maximum_stack_usages_and_average_writes_on_hottest_stack_address_under_different_recursion_depth_limits = pd.DataFrame({\n",
    "    'Recursion Depth Limit': list(recursion_depth_limit_executable_type_renaming.values())[:-1],\n",
    "    'Average Maximum Stack Usages': average_recursion_depth_limit_benchmark_max_stack_usages,\n",
    "    'Average Writes on Hottest Stack Address': average_recursion_depth_limit_benchmark_writes_on_hottest_stack_addresses\n",
    "}).to_latex(\n",
    "    caption='Average Maximum Stack Usages and Average Writes on Hottest Stack Address Under Different Recursion Depth Limits',\n",
    "    label='table:average_maximum_stack_usages_and_average_writes_on_hottest_stack_address_under_different_recursion_depth_limits',\n",
    "    index=False\n",
    ")\n",
    "\n",
    "print(average_maximum_stack_usages_and_average_writes_on_hottest_stack_address_under_different_recursion_depth_limits)"
   ]
  },
  {
   "cell_type": "code",
   "execution_count": 19,
   "id": "2a057843-ec7d-4bd6-9e0a-e4cf8304152e",
   "metadata": {},
   "outputs": [
    {
     "name": "stdout",
     "output_type": "stream",
     "text": [
      "\\begin{table}\n",
      "\\centering\n",
      "\\caption{Average Maximum Stack Usages and Average Writes on Hottest Stack Address Under Different Loop Iterations}\n",
      "\\label{table:average_maximum_stack_usages_and_average_writes_on_hottest_stack_address_under_different_loop_iterations}\n",
      "\\begin{tabular}{lrr}\n",
      "\\toprule\n",
      "Loop Iterations &  Average Maximum Stack Usages &  Average Writes on Hottest Stack Address \\\\\n",
      "\\midrule\n",
      "             08 &                      1.82e+06 &                                 1.64e+05 \\\\\n",
      "             16 &                      1.22e+06 &                                 2.16e+05 \\\\\n",
      "             32 &                      9.21e+05 &                                 3.06e+05 \\\\\n",
      "             64 &                      7.73e+05 &                                 4.51e+05 \\\\\n",
      "\\bottomrule\n",
      "\\end{tabular}\n",
      "\\end{table}\n",
      "\n"
     ]
    }
   ],
   "source": [
    "average_maximum_stack_usages_and_average_writes_on_hottest_stack_address_under_different_loop_iterations = pd.DataFrame({\n",
    "    'Loop Iterations': list(loop_iterations_executable_type_renaming.values())[1:],\n",
    "    'Average Maximum Stack Usages': average_loop_iterations_benchmark_max_stack_usages,\n",
    "    'Average Writes on Hottest Stack Address': average_loop_iterations_benchmark_writes_on_hottest_stack_addresses\n",
    "}).to_latex(\n",
    "    caption='Average Maximum Stack Usages and Average Writes on Hottest Stack Address Under Different Loop Iterations',\n",
    "    label='table:average_maximum_stack_usages_and_average_writes_on_hottest_stack_address_under_different_loop_iterations',\n",
    "    index=False\n",
    ")\n",
    "\n",
    "print(average_maximum_stack_usages_and_average_writes_on_hottest_stack_address_under_different_loop_iterations)"
   ]
  },
  {
   "cell_type": "code",
   "execution_count": 20,
   "id": "d342805b-3dae-4985-bf5e-2f3cae19eddf",
   "metadata": {},
   "outputs": [],
   "source": [
    "import itertools"
   ]
  },
  {
   "cell_type": "code",
   "execution_count": 21,
   "id": "f21e4468-9c82-4cf8-a66c-d569e5aa0afb",
   "metadata": {},
   "outputs": [],
   "source": [
    "import statistics"
   ]
  },
  {
   "cell_type": "code",
   "execution_count": 22,
   "id": "e651eb67-7ad0-433f-bfe4-bd7ed450a771",
   "metadata": {},
   "outputs": [],
   "source": [
    "average_benchmark_writes_on_hottest_stack_addresses_mean = statistics.mean(\n",
    "    itertools.chain(\n",
    "        average_recursion_depth_limit_benchmark_writes_on_hottest_stack_addresses,\n",
    "        average_loop_iterations_benchmark_writes_on_hottest_stack_addresses\n",
    "    )\n",
    ")\n",
    "\n",
    "average_benchmark_writes_on_hottest_stack_addresses_stdev = statistics.stdev(\n",
    "    itertools.chain(\n",
    "        average_recursion_depth_limit_benchmark_writes_on_hottest_stack_addresses,\n",
    "        average_loop_iterations_benchmark_writes_on_hottest_stack_addresses\n",
    "    )\n",
    ")"
   ]
  },
  {
   "cell_type": "code",
   "execution_count": 23,
   "id": "689827ca-d766-4d67-958f-a1d2750845fa",
   "metadata": {},
   "outputs": [],
   "source": [
    "average_benchmark_max_stack_usages_mean = statistics.mean(\n",
    "    itertools.chain(\n",
    "        average_recursion_depth_limit_benchmark_max_stack_usages,\n",
    "        average_loop_iterations_benchmark_max_stack_usages\n",
    "    )\n",
    ")\n",
    "\n",
    "average_benchmark_max_stack_usages_stdev = statistics.stdev(\n",
    "    itertools.chain(\n",
    "        average_recursion_depth_limit_benchmark_max_stack_usages,\n",
    "        average_loop_iterations_benchmark_max_stack_usages\n",
    "    )\n",
    ")"
   ]
  },
  {
   "cell_type": "code",
   "execution_count": 24,
   "id": "7c6d8156-5c76-446c-89d2-41612ed7db2b",
   "metadata": {},
   "outputs": [],
   "source": [
    "normalized_average_recursion_depth_limit_benchmark_writes_on_hottest_stack_addresses = (\n",
    "    average_recursion_depth_limit_benchmark_writes_on_hottest_stack_addresses - average_benchmark_writes_on_hottest_stack_addresses_mean\n",
    ") / average_benchmark_writes_on_hottest_stack_addresses_stdev"
   ]
  },
  {
   "cell_type": "code",
   "execution_count": 25,
   "id": "9d01ed4d-0a3b-4f29-99d8-39d311b4e1e5",
   "metadata": {},
   "outputs": [
    {
     "data": {
      "text/plain": [
       "array([ 0.17076181, -0.45846258, -0.72649853, -0.88481658])"
      ]
     },
     "execution_count": 25,
     "metadata": {},
     "output_type": "execute_result"
    }
   ],
   "source": [
    "normalized_average_recursion_depth_limit_benchmark_writes_on_hottest_stack_addresses"
   ]
  },
  {
   "cell_type": "code",
   "execution_count": 26,
   "id": "c12cc030-616e-4cf4-a44d-913e96a356c5",
   "metadata": {},
   "outputs": [],
   "source": [
    "normalized_average_loop_iterations_benchmark_writes_on_hottest_stack_addresses = (\n",
    "    average_loop_iterations_benchmark_writes_on_hottest_stack_addresses - average_benchmark_writes_on_hottest_stack_addresses_mean\n",
    ") / average_benchmark_writes_on_hottest_stack_addresses_stdev"
   ]
  },
  {
   "cell_type": "code",
   "execution_count": 27,
   "id": "bb88eee5-c50e-4afd-8c1e-b0ee91ca442e",
   "metadata": {},
   "outputs": [
    {
     "data": {
      "text/plain": [
       "array([-0.70249001, -0.19479504,  0.68791626,  2.10838466])"
      ]
     },
     "execution_count": 27,
     "metadata": {},
     "output_type": "execute_result"
    }
   ],
   "source": [
    "normalized_average_loop_iterations_benchmark_writes_on_hottest_stack_addresses"
   ]
  },
  {
   "cell_type": "code",
   "execution_count": 28,
   "id": "48342e68-6b95-4d94-88a0-ba30403d83ed",
   "metadata": {},
   "outputs": [],
   "source": [
    "normalized_average_recursion_depth_limit_benchmark_max_stack_usages = (\n",
    "    average_recursion_depth_limit_benchmark_max_stack_usages - average_benchmark_max_stack_usages_mean\n",
    ") / average_benchmark_max_stack_usages_stdev"
   ]
  },
  {
   "cell_type": "code",
   "execution_count": 29,
   "id": "89ebdff1-544f-4ecc-8921-a959eeb0fdd4",
   "metadata": {},
   "outputs": [
    {
     "data": {
      "text/plain": [
       "array([-0.65977725, -0.65825116, -0.65486885, -0.64788994])"
      ]
     },
     "execution_count": 29,
     "metadata": {},
     "output_type": "execute_result"
    }
   ],
   "source": [
    "normalized_average_recursion_depth_limit_benchmark_max_stack_usages"
   ]
  },
  {
   "cell_type": "code",
   "execution_count": 30,
   "id": "15498ebb-c83e-473e-a9b9-a239b908e37f",
   "metadata": {},
   "outputs": [],
   "source": [
    "normalized_average_loop_iterations_benchmark_max_stack_usages = (\n",
    "    average_loop_iterations_benchmark_max_stack_usages - average_benchmark_max_stack_usages_mean\n",
    ") / average_benchmark_max_stack_usages_stdev"
   ]
  },
  {
   "cell_type": "code",
   "execution_count": 31,
   "id": "14ce9bec-42e5-43d9-9808-4d1ef06e0455",
   "metadata": {},
   "outputs": [
    {
     "data": {
      "text/plain": [
       "array([ 2.15231167,  0.74257505,  0.03810202, -0.31220154])"
      ]
     },
     "execution_count": 31,
     "metadata": {},
     "output_type": "execute_result"
    }
   ],
   "source": [
    "normalized_average_loop_iterations_benchmark_max_stack_usages"
   ]
  },
  {
   "cell_type": "code",
   "execution_count": 32,
   "id": "005273fb-5f4d-4ee9-b121-fdc7a151e63c",
   "metadata": {},
   "outputs": [],
   "source": [
    "from regression import regression"
   ]
  },
  {
   "cell_type": "code",
   "execution_count": 33,
   "id": "31008eb1-ef8e-48a0-8e26-80b77fb6d123",
   "metadata": {},
   "outputs": [],
   "source": [
    "def f(x, a, b):\n",
    "    return -a * x + b"
   ]
  },
  {
   "cell_type": "code",
   "execution_count": 34,
   "id": "f5c65406-7fcf-4349-a75f-659506990bfa",
   "metadata": {},
   "outputs": [],
   "source": [
    "def g(x, a, b, c):\n",
    "    return a * np.exp(-b * x) + c"
   ]
  },
  {
   "cell_type": "code",
   "execution_count": 35,
   "id": "c0163ea3-2fc2-4a21-84f5-43f2e5b2e281",
   "metadata": {},
   "outputs": [
    {
     "data": {
      "text/plain": [
       "'-0.0094 * x + -0.6597, r^2 = 0.6814'"
      ]
     },
     "execution_count": 35,
     "metadata": {},
     "output_type": "execute_result"
    }
   ],
   "source": [
    "normalized_average_recursion_depth_limit_parameter_values, normalized_average_recursion_depth_limit_r_squared = regression(\n",
    "    f,\n",
    "    normalized_average_recursion_depth_limit_benchmark_writes_on_hottest_stack_addresses,\n",
    "    normalized_average_recursion_depth_limit_benchmark_max_stack_usages,\n",
    ")\n",
    "normalized_average_recursion_depth_limit_r_squared\n",
    "normalized_average_recursion_depth_limit_f = '-%.4f * x + %.4f, r^2 = %.4f' % (*normalized_average_recursion_depth_limit_parameter_values, normalized_average_recursion_depth_limit_r_squared)\n",
    "normalized_average_recursion_depth_limit_f"
   ]
  },
  {
   "cell_type": "code",
   "execution_count": 36,
   "id": "05fd5ac3-0447-4836-87f7-8a40243c47c8",
   "metadata": {},
   "outputs": [
    {
     "data": {
      "text/plain": [
       "'0.7934 * exp(-1.5986 * x) + -0.2983, r^2 = 0.9975'"
      ]
     },
     "execution_count": 36,
     "metadata": {},
     "output_type": "execute_result"
    }
   ],
   "source": [
    "normalized_average_loop_iterations_parameter_values, normalized_average_loop_iterations_r_squared = regression(\n",
    "    g,\n",
    "    normalized_average_loop_iterations_benchmark_writes_on_hottest_stack_addresses,\n",
    "    normalized_average_loop_iterations_benchmark_max_stack_usages,\n",
    ")\n",
    "\n",
    "normalized_average_loop_iterations_g = '%.4f * exp(-%.4f * x) + %.4f, r^2 = %.4f' % (*normalized_average_loop_iterations_parameter_values, normalized_average_loop_iterations_r_squared)\n",
    "normalized_average_loop_iterations_g"
   ]
  },
  {
   "cell_type": "code",
   "execution_count": 37,
   "id": "b787cf21-7e3c-48cc-9d26-17be2c228523",
   "metadata": {},
   "outputs": [],
   "source": [
    "x_start = min(\n",
    "    min(normalized_average_recursion_depth_limit_benchmark_writes_on_hottest_stack_addresses),\n",
    "    min(normalized_average_loop_iterations_benchmark_writes_on_hottest_stack_addresses)\n",
    ")\n",
    "\n",
    "x_stop = max(\n",
    "    max(normalized_average_recursion_depth_limit_benchmark_writes_on_hottest_stack_addresses),\n",
    "    max(normalized_average_loop_iterations_benchmark_writes_on_hottest_stack_addresses)\n",
    ")\n",
    "\n",
    "x = np.arange(x_start, x_stop, (x_stop - x_start) / 20)"
   ]
  },
  {
   "cell_type": "code",
   "execution_count": 38,
   "id": "ed336ce8-5190-4f4d-9a32-52a347e6128b",
   "metadata": {},
   "outputs": [
    {
     "data": {
      "application/vnd.jupyter.widget-view+json": {
       "model_id": "922c25b405494dfdae16904eb4c00b1e",
       "version_major": 2,
       "version_minor": 0
      },
      "image/png": "[encoded data removed]",
      "text/html": [
       "\n",
       "            <div style=\"display: inline-block;\">\n",
       "                <div class=\"jupyter-widgets widget-label\" style=\"text-align: center;\">\n",
       "                    Figure\n",
       "                </div>\n",
       "                <img src='data:image/png;base64,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' width=1000.0/>\n",
       "            </div>\n",
       "        "
      ],
      "text/plain": [
       "Canvas(toolbar=Toolbar(toolitems=[('Home', 'Reset original view', 'home', 'home'), ('Back', 'Back to previous …"
      ]
     },
     "metadata": {},
     "output_type": "display_data"
    }
   ],
   "source": [
    "average_maximum_stack_usages_and_average_writes_on_hottest_stack_address_under_different_recursion_depth_limits_and_loop_iterations, ax = plt.subplots()\n",
    "\n",
    "ax.scatter(\n",
    "    normalized_average_recursion_depth_limit_benchmark_writes_on_hottest_stack_addresses,\n",
    "    normalized_average_recursion_depth_limit_benchmark_max_stack_usages,\n",
    ")\n",
    "\n",
    "ax.scatter(\n",
    "    normalized_average_loop_iterations_benchmark_writes_on_hottest_stack_addresses,\n",
    "    normalized_average_loop_iterations_benchmark_max_stack_usages,\n",
    ")\n",
    "\n",
    "ax.plot(x, f(x, *normalized_average_recursion_depth_limit_parameter_values), linestyle='dashed', label='Limiting Recursion Depth')\n",
    "ax.plot(x, g(x, *normalized_average_loop_iterations_parameter_values), linestyle='dashed', label='Retaining a Portion of the Loop in the Recursive Function')\n",
    "\n",
    "ax.set_xlabel('Normalized Average Writes on Hottest Stack Address')\n",
    "ax.set_ylabel('Normalized Average Max Stack Usages')\n",
    "\n",
    "ax.legend()\n",
    "ax.grid(True)"
   ]
  },
  {
   "cell_type": "code",
   "execution_count": 39,
   "id": "8a8c6792-0596-4242-921a-beb6c690e1d1",
   "metadata": {},
   "outputs": [],
   "source": [
    "average_maximum_stack_usages_and_average_writes_on_hottest_stack_address_under_different_recursion_depth_limits_and_loop_iterations.savefig(\n",
    "    'average_maximum_stack_usages_and_average_writes_on_hottest_stack_address_under_different_recursion_depth_limits_and_loop_iterations.pdf'\n",
    ")"
   ]
  },
  {
   "cell_type": "code",
   "execution_count": null,
   "id": "d0b0b862-b168-40af-b304-a4a62d0ff4cb",
   "metadata": {},
   "outputs": [],
   "source": []
  }
 ],
 "metadata": {
  "kernelspec": {
   "display_name": "Python 3 (ipykernel)",
   "language": "python",
   "name": "python3"
  },
  "language_info": {
   "codemirror_mode": {
    "name": "ipython",
    "version": 3
   },
   "file_extension": ".py",
   "mimetype": "text/x-python",
   "name": "python",
   "nbconvert_exporter": "python",
   "pygments_lexer": "ipython3",
   "version": "3.7.12"
  }
 },
 "nbformat": 4,
 "nbformat_minor": 5
}
