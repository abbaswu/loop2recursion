{
 "cells": [
  {
   "cell_type": "code",
   "execution_count": 1,
   "id": "b6283102-8ecb-4046-9b54-3aa3ff55045a",
   "metadata": {},
   "outputs": [],
   "source": [
    "from matplotlib import pyplot as plt\n",
    "\n",
    "%matplotlib ipympl\n",
    "\n",
    "plt.rcParams['figure.figsize'] = [10, 5]\n",
    "plt.rcParams['font.size'] = 7.5\n",
    "# 用来正常显示中文标签\n",
    "plt.rcParams['font.family'] = 'sans-serif' \n",
    "plt.rcParams['figure.autolayout'] = True\n",
    "# 用来正常显示负号\n",
    "plt.rcParams['axes.unicode_minus'] = False \n",
    "plt.rcParams['axes.xmargin'] = 0\n",
    "plt.rcParams['axes.ymargin'] = 0"
   ]
  },
  {
   "cell_type": "code",
   "execution_count": 2,
   "id": "cc551b8b-3434-4d4d-b2d3-a897068c8dd9",
   "metadata": {},
   "outputs": [],
   "source": [
    "import numpy as np\n",
    "import pandas as pd\n",
    "import pylatex\n",
    "pd.options.display.float_format = '{:.2e}'.format\n",
    "\n",
    "from calculate_increases import calculate_increases\n",
    "from line_chart_with_multiple_lines import line_chart_with_multiple_lines\n",
    "from grouped_bar_chart import grouped_bar_chart\n",
    "from parse_data import *"
   ]
  },
  {
   "cell_type": "code",
   "execution_count": 3,
   "id": "68d9a435-fbc5-4ac2-a21d-2ea7fbd55d39",
   "metadata": {},
   "outputs": [],
   "source": [
    "benchmark_max_stack_usages = parse_profile_data_in_directory_to_dataframe(\n",
    "    parse_json_format_profile_data_directory('benchmark_max_stack_usages', 'stack_size'),\n",
    "    'max_stack_usage',\n",
    "    True\n",
    ")\n",
    "\n",
    "benchmark_instruction_counts = parse_profile_data_in_directory_to_dataframe(\n",
    "    parse_benchmark_instruction_counts_directory('benchmark_instruction_counts'),\n",
    "    'instruction_count',\n",
    "    True\n",
    ")\n",
    "\n",
    "benchmark_writes_on_hottest_stack_addresses = parse_profile_data_in_directory_to_dataframe(\n",
    "    parse_json_format_profile_data_directory('benchmark_writes_on_hottest_stack_addresses', 'writes'),\n",
    "    'writes_on_hottest_stack_address',\n",
    "    True\n",
    ")\n",
    "\n",
    "max_number_of_stack_frames_on_a_stack_address = parse_profile_data_in_directory_to_dataframe(\n",
    "    parse_json_format_profile_data_directory('max_number_of_stack_frames_on_a_stack_address', 'number_of_stack_frames'),\n",
    "    'max_number_of_stack_frames_on_a_stack_address',\n",
    "    True\n",
    ")\n",
    "\n",
    "writes_on_hottest_address_in_stack_frames = parse_profile_data_in_directory_to_dataframe(\n",
    "    parse_json_format_profile_data_directory('writes_on_hottest_address_in_stack_frames', 'writes'),\n",
    "    'writes_on_hottest_address_in_stack_frames',\n",
    "    True\n",
    ")"
   ]
  },
  {
   "cell_type": "code",
   "execution_count": 4,
   "id": "44272ba5-3551-43d0-b98c-c9fe68088aea",
   "metadata": {},
   "outputs": [],
   "source": [
    "import re"
   ]
  },
  {
   "cell_type": "code",
   "execution_count": 5,
   "id": "eca79b5b-ad59-4faa-96e5-e7bb95f3c8a6",
   "metadata": {},
   "outputs": [
    {
     "data": {
      "text/plain": [
       "[8, 16, 32, 64]"
      ]
     },
     "execution_count": 5,
     "metadata": {},
     "output_type": "execute_result"
    }
   ],
   "source": [
    "def f(types_of_benchmarks):\n",
    "    recursion_depth_limit_benchmark_type_pattern = re.compile(r'new_loop2recursion-recursion_depth_limit-(\\d+)')\n",
    "    for benchmark_type in types_of_benchmarks:\n",
    "        match = recursion_depth_limit_benchmark_type_pattern.match(benchmark_type)\n",
    "        if match:\n",
    "            recursion_depth_limit_string, *_ = match.groups()\n",
    "            recursion_depth_limit = int(recursion_depth_limit_string)\n",
    "            yield recursion_depth_limit\n",
    "\n",
    "recursion_depth_limit_list = list(f(benchmark_max_stack_usages['executable_type'].unique()))\n",
    "recursion_depth_limit_list.sort()\n",
    "recursion_depth_limit_list"
   ]
  },
  {
   "cell_type": "code",
   "execution_count": 6,
   "id": "d15dd0a5-f002-4ac7-916f-d490b840d9ac",
   "metadata": {},
   "outputs": [
    {
     "data": {
      "text/plain": [
       "[8, 16, 32, 64]"
      ]
     },
     "execution_count": 6,
     "metadata": {},
     "output_type": "execute_result"
    }
   ],
   "source": [
    "def g(types_of_benchmarks):\n",
    "    loop_iterations_benchmark_type_pattern = re.compile(r'new_loop2recursion-loop_iterations-(\\d+)')\n",
    "    for benchmark_type in types_of_benchmarks:\n",
    "        match = loop_iterations_benchmark_type_pattern.match(benchmark_type)\n",
    "        if match:\n",
    "            loop_iterations_string, *_ = match.groups()\n",
    "            loop_iterations = int(loop_iterations_string)\n",
    "            yield loop_iterations\n",
    "\n",
    "loop_iterations_list = list(g(benchmark_max_stack_usages['executable_type'].unique()))\n",
    "loop_iterations_list.sort()\n",
    "loop_iterations_list"
   ]
  },
  {
   "cell_type": "code",
   "execution_count": 7,
   "id": "c0b60499-4c92-4fe4-82ba-ff0e8ce89301",
   "metadata": {},
   "outputs": [
    {
     "data": {
      "text/plain": [
       "{'new_loop2recursion-recursion_depth_limit-8': '08',\n",
       " 'new_loop2recursion-recursion_depth_limit-16': '16',\n",
       " 'new_loop2recursion-recursion_depth_limit-32': '32',\n",
       " 'new_loop2recursion-recursion_depth_limit-64': '64',\n",
       " 'new_loop2recursion': 'Unlimited'}"
      ]
     },
     "execution_count": 7,
     "metadata": {},
     "output_type": "execute_result"
    }
   ],
   "source": [
    "recursion_depth_limit_executable_type_renaming = {\n",
    "    f'new_loop2recursion-recursion_depth_limit-{recursion_depth_limit}': f'{recursion_depth_limit:02}'\n",
    "    for recursion_depth_limit in recursion_depth_limit_list\n",
    "}\n",
    "\n",
    "recursion_depth_limit_executable_type_renaming['new_loop2recursion'] = 'Unlimited'\n",
    "\n",
    "recursion_depth_limit_executable_type_renaming"
   ]
  },
  {
   "cell_type": "code",
   "execution_count": 8,
   "id": "82bbc097-7584-4c77-a35e-aeda1fb4a154",
   "metadata": {},
   "outputs": [
    {
     "data": {
      "text/plain": [
       "{'new_loop2recursion': '00',\n",
       " 'new_loop2recursion-loop_iterations-8': '08',\n",
       " 'new_loop2recursion-loop_iterations-16': '16',\n",
       " 'new_loop2recursion-loop_iterations-32': '32',\n",
       " 'new_loop2recursion-loop_iterations-64': '64'}"
      ]
     },
     "execution_count": 8,
     "metadata": {},
     "output_type": "execute_result"
    }
   ],
   "source": [
    "loop_iterations_executable_type_renaming = { 'new_loop2recursion': f'{0:02}' }\n",
    "\n",
    "for loop_iterations in loop_iterations_list:\n",
    "    loop_iterations_executable_type_renaming[f'new_loop2recursion-loop_iterations-{loop_iterations}'] = f'{loop_iterations:02}'\n",
    "\n",
    "loop_iterations_executable_type_renaming"
   ]
  },
  {
   "cell_type": "code",
   "execution_count": 9,
   "id": "936db3d6-1027-44e8-89cb-149e01d55109",
   "metadata": {},
   "outputs": [
    {
     "data": {
      "text/html": [
       "<div>\n",
       "<style scoped>\n",
       "    .dataframe tbody tr th:only-of-type {\n",
       "        vertical-align: middle;\n",
       "    }\n",
       "\n",
       "    .dataframe tbody tr th {\n",
       "        vertical-align: top;\n",
       "    }\n",
       "\n",
       "    .dataframe thead th {\n",
       "        text-align: right;\n",
       "    }\n",
       "</style>\n",
       "<table border=\"1\" class=\"dataframe\">\n",
       "  <thead>\n",
       "    <tr style=\"text-align: right;\">\n",
       "      <th></th>\n",
       "      <th>executable_type</th>\n",
       "      <th>benchmark</th>\n",
       "      <th>max_stack_usage</th>\n",
       "    </tr>\n",
       "  </thead>\n",
       "  <tbody>\n",
       "    <tr>\n",
       "      <th>225</th>\n",
       "      <td>08</td>\n",
       "      <td>average</td>\n",
       "      <td>6.25e+05</td>\n",
       "    </tr>\n",
       "    <tr>\n",
       "      <th>227</th>\n",
       "      <td>16</td>\n",
       "      <td>average</td>\n",
       "      <td>6.25e+05</td>\n",
       "    </tr>\n",
       "    <tr>\n",
       "      <th>234</th>\n",
       "      <td>32</td>\n",
       "      <td>average</td>\n",
       "      <td>6.27e+05</td>\n",
       "    </tr>\n",
       "    <tr>\n",
       "      <th>223</th>\n",
       "      <td>64</td>\n",
       "      <td>average</td>\n",
       "      <td>6.30e+05</td>\n",
       "    </tr>\n",
       "    <tr>\n",
       "      <th>236</th>\n",
       "      <td>Unlimited</td>\n",
       "      <td>average</td>\n",
       "      <td>4.49e+06</td>\n",
       "    </tr>\n",
       "    <tr>\n",
       "      <th>...</th>\n",
       "      <td>...</td>\n",
       "      <td>...</td>\n",
       "      <td>...</td>\n",
       "    </tr>\n",
       "    <tr>\n",
       "      <th>58</th>\n",
       "      <td>08</td>\n",
       "      <td>susan</td>\n",
       "      <td>3.72e+05</td>\n",
       "    </tr>\n",
       "    <tr>\n",
       "      <th>84</th>\n",
       "      <td>16</td>\n",
       "      <td>susan</td>\n",
       "      <td>3.72e+05</td>\n",
       "    </tr>\n",
       "    <tr>\n",
       "      <th>175</th>\n",
       "      <td>32</td>\n",
       "      <td>susan</td>\n",
       "      <td>3.74e+05</td>\n",
       "    </tr>\n",
       "    <tr>\n",
       "      <th>32</th>\n",
       "      <td>64</td>\n",
       "      <td>susan</td>\n",
       "      <td>3.83e+05</td>\n",
       "    </tr>\n",
       "    <tr>\n",
       "      <th>201</th>\n",
       "      <td>Unlimited</td>\n",
       "      <td>susan</td>\n",
       "      <td>3.81e+05</td>\n",
       "    </tr>\n",
       "  </tbody>\n",
       "</table>\n",
       "<p>70 rows × 3 columns</p>\n",
       "</div>"
      ],
      "text/plain": [
       "    executable_type benchmark  max_stack_usage\n",
       "225              08   average         6.25e+05\n",
       "227              16   average         6.25e+05\n",
       "234              32   average         6.27e+05\n",
       "223              64   average         6.30e+05\n",
       "236       Unlimited   average         4.49e+06\n",
       "..              ...       ...              ...\n",
       "58               08     susan         3.72e+05\n",
       "84               16     susan         3.72e+05\n",
       "175              32     susan         3.74e+05\n",
       "32               64     susan         3.83e+05\n",
       "201       Unlimited     susan         3.81e+05\n",
       "\n",
       "[70 rows x 3 columns]"
      ]
     },
     "execution_count": 9,
     "metadata": {},
     "output_type": "execute_result"
    }
   ],
   "source": [
    "recursion_depth_limit_benchmark_max_stack_usages = benchmark_max_stack_usages[\n",
    "    benchmark_max_stack_usages['executable_type'].isin(\n",
    "        recursion_depth_limit_executable_type_renaming\n",
    "    )\n",
    "].replace(\n",
    "    to_replace=recursion_depth_limit_executable_type_renaming\n",
    ").sort_values(\n",
    "    by=['benchmark', 'executable_type']\n",
    ")\n",
    "\n",
    "recursion_depth_limit_benchmark_max_stack_usages"
   ]
  },
  {
   "cell_type": "code",
   "execution_count": 10,
   "id": "2de6d210-0941-43b4-b5cc-3c6d82838b31",
   "metadata": {},
   "outputs": [
    {
     "data": {
      "text/plain": [
       "array([624776.61538462, 625425.23076923, 626862.76923077, 629828.92307692])"
      ]
     },
     "execution_count": 10,
     "metadata": {},
     "output_type": "execute_result"
    }
   ],
   "source": [
    "average_recursion_depth_limit_benchmark_max_stack_usages = recursion_depth_limit_benchmark_max_stack_usages[\n",
    "    recursion_depth_limit_benchmark_max_stack_usages['benchmark'] == 'average'\n",
    "]['max_stack_usage'].values[:-1]\n",
    "average_recursion_depth_limit_benchmark_max_stack_usages"
   ]
  },
  {
   "cell_type": "code",
   "execution_count": 11,
   "id": "cb23a413-a174-44da-9b48-23bbaf6daa70",
   "metadata": {},
   "outputs": [
    {
     "data": {
      "text/html": [
       "<div>\n",
       "<style scoped>\n",
       "    .dataframe tbody tr th:only-of-type {\n",
       "        vertical-align: middle;\n",
       "    }\n",
       "\n",
       "    .dataframe tbody tr th {\n",
       "        vertical-align: top;\n",
       "    }\n",
       "\n",
       "    .dataframe thead th {\n",
       "        text-align: right;\n",
       "    }\n",
       "</style>\n",
       "<table border=\"1\" class=\"dataframe\">\n",
       "  <thead>\n",
       "    <tr style=\"text-align: right;\">\n",
       "      <th></th>\n",
       "      <th>executable_type</th>\n",
       "      <th>benchmark</th>\n",
       "      <th>writes_on_hottest_stack_address</th>\n",
       "    </tr>\n",
       "  </thead>\n",
       "  <tbody>\n",
       "    <tr>\n",
       "      <th>225</th>\n",
       "      <td>08</td>\n",
       "      <td>average</td>\n",
       "      <td>2.53e+05</td>\n",
       "    </tr>\n",
       "    <tr>\n",
       "      <th>227</th>\n",
       "      <td>16</td>\n",
       "      <td>average</td>\n",
       "      <td>1.89e+05</td>\n",
       "    </tr>\n",
       "    <tr>\n",
       "      <th>234</th>\n",
       "      <td>32</td>\n",
       "      <td>average</td>\n",
       "      <td>1.62e+05</td>\n",
       "    </tr>\n",
       "    <tr>\n",
       "      <th>223</th>\n",
       "      <td>64</td>\n",
       "      <td>average</td>\n",
       "      <td>1.46e+05</td>\n",
       "    </tr>\n",
       "    <tr>\n",
       "      <th>236</th>\n",
       "      <td>Unlimited</td>\n",
       "      <td>average</td>\n",
       "      <td>1.29e+05</td>\n",
       "    </tr>\n",
       "    <tr>\n",
       "      <th>...</th>\n",
       "      <td>...</td>\n",
       "      <td>...</td>\n",
       "      <td>...</td>\n",
       "    </tr>\n",
       "    <tr>\n",
       "      <th>58</th>\n",
       "      <td>08</td>\n",
       "      <td>susan</td>\n",
       "      <td>1.40e+05</td>\n",
       "    </tr>\n",
       "    <tr>\n",
       "      <th>84</th>\n",
       "      <td>16</td>\n",
       "      <td>susan</td>\n",
       "      <td>6.86e+04</td>\n",
       "    </tr>\n",
       "    <tr>\n",
       "      <th>175</th>\n",
       "      <td>32</td>\n",
       "      <td>susan</td>\n",
       "      <td>3.72e+04</td>\n",
       "    </tr>\n",
       "    <tr>\n",
       "      <th>32</th>\n",
       "      <td>64</td>\n",
       "      <td>susan</td>\n",
       "      <td>1.79e+04</td>\n",
       "    </tr>\n",
       "    <tr>\n",
       "      <th>201</th>\n",
       "      <td>Unlimited</td>\n",
       "      <td>susan</td>\n",
       "      <td>1.78e+04</td>\n",
       "    </tr>\n",
       "  </tbody>\n",
       "</table>\n",
       "<p>70 rows × 3 columns</p>\n",
       "</div>"
      ],
      "text/plain": [
       "    executable_type benchmark  writes_on_hottest_stack_address\n",
       "225              08   average                         2.53e+05\n",
       "227              16   average                         1.89e+05\n",
       "234              32   average                         1.62e+05\n",
       "223              64   average                         1.46e+05\n",
       "236       Unlimited   average                         1.29e+05\n",
       "..              ...       ...                              ...\n",
       "58               08     susan                         1.40e+05\n",
       "84               16     susan                         6.86e+04\n",
       "175              32     susan                         3.72e+04\n",
       "32               64     susan                         1.79e+04\n",
       "201       Unlimited     susan                         1.78e+04\n",
       "\n",
       "[70 rows x 3 columns]"
      ]
     },
     "execution_count": 11,
     "metadata": {},
     "output_type": "execute_result"
    }
   ],
   "source": [
    "recursion_depth_limit_benchmark_writes_on_hottest_stack_addresses = benchmark_writes_on_hottest_stack_addresses[\n",
    "    benchmark_writes_on_hottest_stack_addresses['executable_type'].isin(\n",
    "        recursion_depth_limit_executable_type_renaming\n",
    "    )\n",
    "].replace(\n",
    "    to_replace=recursion_depth_limit_executable_type_renaming\n",
    ").sort_values(\n",
    "    by=['benchmark', 'executable_type']\n",
    ")\n",
    "\n",
    "recursion_depth_limit_benchmark_writes_on_hottest_stack_addresses"
   ]
  },
  {
   "cell_type": "code",
   "execution_count": 12,
   "id": "57f5f393-aace-470c-86d4-a13c40d923a5",
   "metadata": {},
   "outputs": [
    {
     "data": {
      "text/plain": [
       "array([253315.07692308, 189150.84615385, 161817.38461538, 145674.30769231])"
      ]
     },
     "execution_count": 12,
     "metadata": {},
     "output_type": "execute_result"
    }
   ],
   "source": [
    "average_recursion_depth_limit_benchmark_writes_on_hottest_stack_addresses = recursion_depth_limit_benchmark_writes_on_hottest_stack_addresses[\n",
    "    recursion_depth_limit_benchmark_writes_on_hottest_stack_addresses['benchmark'] == 'average'\n",
    "]['writes_on_hottest_stack_address'].values[:-1]\n",
    "average_recursion_depth_limit_benchmark_writes_on_hottest_stack_addresses"
   ]
  },
  {
   "cell_type": "code",
   "execution_count": 13,
   "id": "4848677c-e362-4a70-b7c2-3beb5b37e920",
   "metadata": {},
   "outputs": [
    {
     "data": {
      "text/html": [
       "<div>\n",
       "<style scoped>\n",
       "    .dataframe tbody tr th:only-of-type {\n",
       "        vertical-align: middle;\n",
       "    }\n",
       "\n",
       "    .dataframe tbody tr th {\n",
       "        vertical-align: top;\n",
       "    }\n",
       "\n",
       "    .dataframe thead th {\n",
       "        text-align: right;\n",
       "    }\n",
       "</style>\n",
       "<table border=\"1\" class=\"dataframe\">\n",
       "  <thead>\n",
       "    <tr style=\"text-align: right;\">\n",
       "      <th></th>\n",
       "      <th>executable_type</th>\n",
       "      <th>benchmark</th>\n",
       "      <th>max_stack_usage</th>\n",
       "    </tr>\n",
       "  </thead>\n",
       "  <tbody>\n",
       "    <tr>\n",
       "      <th>236</th>\n",
       "      <td>00</td>\n",
       "      <td>average</td>\n",
       "      <td>4.49e+06</td>\n",
       "    </tr>\n",
       "    <tr>\n",
       "      <th>231</th>\n",
       "      <td>08</td>\n",
       "      <td>average</td>\n",
       "      <td>1.82e+06</td>\n",
       "    </tr>\n",
       "    <tr>\n",
       "      <th>230</th>\n",
       "      <td>16</td>\n",
       "      <td>average</td>\n",
       "      <td>1.22e+06</td>\n",
       "    </tr>\n",
       "    <tr>\n",
       "      <th>235</th>\n",
       "      <td>32</td>\n",
       "      <td>average</td>\n",
       "      <td>9.21e+05</td>\n",
       "    </tr>\n",
       "    <tr>\n",
       "      <th>226</th>\n",
       "      <td>64</td>\n",
       "      <td>average</td>\n",
       "      <td>7.73e+05</td>\n",
       "    </tr>\n",
       "    <tr>\n",
       "      <th>...</th>\n",
       "      <td>...</td>\n",
       "      <td>...</td>\n",
       "      <td>...</td>\n",
       "    </tr>\n",
       "    <tr>\n",
       "      <th>201</th>\n",
       "      <td>00</td>\n",
       "      <td>susan</td>\n",
       "      <td>3.81e+05</td>\n",
       "    </tr>\n",
       "    <tr>\n",
       "      <th>136</th>\n",
       "      <td>08</td>\n",
       "      <td>susan</td>\n",
       "      <td>3.72e+05</td>\n",
       "    </tr>\n",
       "    <tr>\n",
       "      <th>123</th>\n",
       "      <td>16</td>\n",
       "      <td>susan</td>\n",
       "      <td>3.72e+05</td>\n",
       "    </tr>\n",
       "    <tr>\n",
       "      <th>188</th>\n",
       "      <td>32</td>\n",
       "      <td>susan</td>\n",
       "      <td>3.72e+05</td>\n",
       "    </tr>\n",
       "    <tr>\n",
       "      <th>71</th>\n",
       "      <td>64</td>\n",
       "      <td>susan</td>\n",
       "      <td>3.72e+05</td>\n",
       "    </tr>\n",
       "  </tbody>\n",
       "</table>\n",
       "<p>70 rows × 3 columns</p>\n",
       "</div>"
      ],
      "text/plain": [
       "    executable_type benchmark  max_stack_usage\n",
       "236              00   average         4.49e+06\n",
       "231              08   average         1.82e+06\n",
       "230              16   average         1.22e+06\n",
       "235              32   average         9.21e+05\n",
       "226              64   average         7.73e+05\n",
       "..              ...       ...              ...\n",
       "201              00     susan         3.81e+05\n",
       "136              08     susan         3.72e+05\n",
       "123              16     susan         3.72e+05\n",
       "188              32     susan         3.72e+05\n",
       "71               64     susan         3.72e+05\n",
       "\n",
       "[70 rows x 3 columns]"
      ]
     },
     "execution_count": 13,
     "metadata": {},
     "output_type": "execute_result"
    }
   ],
   "source": [
    "loop_iterations_benchmark_max_stack_usages = benchmark_max_stack_usages[\n",
    "    benchmark_max_stack_usages['executable_type'].isin(\n",
    "        loop_iterations_executable_type_renaming\n",
    "    )\n",
    "].replace(\n",
    "    to_replace=loop_iterations_executable_type_renaming\n",
    ").sort_values(\n",
    "    by=['benchmark', 'executable_type']\n",
    ")\n",
    "\n",
    "loop_iterations_benchmark_max_stack_usages"
   ]
  },
  {
   "cell_type": "code",
   "execution_count": 14,
   "id": "8c6efd2a-8635-47aa-a47b-428f9f70ad3b",
   "metadata": {},
   "outputs": [
    {
     "data": {
      "text/plain": [
       "array([1819961.84615385, 1220800.        ,  921387.07692308,\n",
       "        772502.15384615])"
      ]
     },
     "execution_count": 14,
     "metadata": {},
     "output_type": "execute_result"
    }
   ],
   "source": [
    "average_loop_iterations_benchmark_max_stack_usages = loop_iterations_benchmark_max_stack_usages[\n",
    "    loop_iterations_benchmark_max_stack_usages['benchmark'] == 'average'\n",
    "]['max_stack_usage'].values[1:]\n",
    "average_loop_iterations_benchmark_max_stack_usages"
   ]
  },
  {
   "cell_type": "code",
   "execution_count": 15,
   "id": "ba387677-7823-4944-86f8-d4324c0c11c4",
   "metadata": {},
   "outputs": [
    {
     "data": {
      "text/html": [
       "<div>\n",
       "<style scoped>\n",
       "    .dataframe tbody tr th:only-of-type {\n",
       "        vertical-align: middle;\n",
       "    }\n",
       "\n",
       "    .dataframe tbody tr th {\n",
       "        vertical-align: top;\n",
       "    }\n",
       "\n",
       "    .dataframe thead th {\n",
       "        text-align: right;\n",
       "    }\n",
       "</style>\n",
       "<table border=\"1\" class=\"dataframe\">\n",
       "  <thead>\n",
       "    <tr style=\"text-align: right;\">\n",
       "      <th></th>\n",
       "      <th>executable_type</th>\n",
       "      <th>benchmark</th>\n",
       "      <th>writes_on_hottest_stack_address</th>\n",
       "    </tr>\n",
       "  </thead>\n",
       "  <tbody>\n",
       "    <tr>\n",
       "      <th>236</th>\n",
       "      <td>00</td>\n",
       "      <td>average</td>\n",
       "      <td>1.29e+05</td>\n",
       "    </tr>\n",
       "    <tr>\n",
       "      <th>231</th>\n",
       "      <td>08</td>\n",
       "      <td>average</td>\n",
       "      <td>1.64e+05</td>\n",
       "    </tr>\n",
       "    <tr>\n",
       "      <th>230</th>\n",
       "      <td>16</td>\n",
       "      <td>average</td>\n",
       "      <td>2.16e+05</td>\n",
       "    </tr>\n",
       "    <tr>\n",
       "      <th>235</th>\n",
       "      <td>32</td>\n",
       "      <td>average</td>\n",
       "      <td>3.06e+05</td>\n",
       "    </tr>\n",
       "    <tr>\n",
       "      <th>226</th>\n",
       "      <td>64</td>\n",
       "      <td>average</td>\n",
       "      <td>4.51e+05</td>\n",
       "    </tr>\n",
       "    <tr>\n",
       "      <th>...</th>\n",
       "      <td>...</td>\n",
       "      <td>...</td>\n",
       "      <td>...</td>\n",
       "    </tr>\n",
       "    <tr>\n",
       "      <th>201</th>\n",
       "      <td>00</td>\n",
       "      <td>susan</td>\n",
       "      <td>1.78e+04</td>\n",
       "    </tr>\n",
       "    <tr>\n",
       "      <th>136</th>\n",
       "      <td>08</td>\n",
       "      <td>susan</td>\n",
       "      <td>2.17e+05</td>\n",
       "    </tr>\n",
       "    <tr>\n",
       "      <th>123</th>\n",
       "      <td>16</td>\n",
       "      <td>susan</td>\n",
       "      <td>4.83e+05</td>\n",
       "    </tr>\n",
       "    <tr>\n",
       "      <th>188</th>\n",
       "      <td>32</td>\n",
       "      <td>susan</td>\n",
       "      <td>9.84e+05</td>\n",
       "    </tr>\n",
       "    <tr>\n",
       "      <th>71</th>\n",
       "      <td>64</td>\n",
       "      <td>susan</td>\n",
       "      <td>1.93e+06</td>\n",
       "    </tr>\n",
       "  </tbody>\n",
       "</table>\n",
       "<p>70 rows × 3 columns</p>\n",
       "</div>"
      ],
      "text/plain": [
       "    executable_type benchmark  writes_on_hottest_stack_address\n",
       "236              00   average                         1.29e+05\n",
       "231              08   average                         1.64e+05\n",
       "230              16   average                         2.16e+05\n",
       "235              32   average                         3.06e+05\n",
       "226              64   average                         4.51e+05\n",
       "..              ...       ...                              ...\n",
       "201              00     susan                         1.78e+04\n",
       "136              08     susan                         2.17e+05\n",
       "123              16     susan                         4.83e+05\n",
       "188              32     susan                         9.84e+05\n",
       "71               64     susan                         1.93e+06\n",
       "\n",
       "[70 rows x 3 columns]"
      ]
     },
     "execution_count": 15,
     "metadata": {},
     "output_type": "execute_result"
    }
   ],
   "source": [
    "loop_iterations_benchmark_writes_on_hottest_stack_addresses = benchmark_writes_on_hottest_stack_addresses[\n",
    "    benchmark_writes_on_hottest_stack_addresses['executable_type'].isin(\n",
    "        loop_iterations_executable_type_renaming\n",
    "    )\n",
    "].replace(\n",
    "    to_replace=loop_iterations_executable_type_renaming\n",
    ").sort_values(\n",
    "    by=['benchmark', 'executable_type']\n",
    ")\n",
    "\n",
    "loop_iterations_benchmark_writes_on_hottest_stack_addresses"
   ]
  },
  {
   "cell_type": "code",
   "execution_count": 16,
   "id": "e49dde45-b992-47d7-a939-b5aa14b68e99",
   "metadata": {},
   "outputs": [
    {
     "data": {
      "text/plain": [
       "array([164266.61538462, 216038.        , 306051.07692308, 450901.07692308])"
      ]
     },
     "execution_count": 16,
     "metadata": {},
     "output_type": "execute_result"
    }
   ],
   "source": [
    "average_loop_iterations_benchmark_writes_on_hottest_stack_addresses = loop_iterations_benchmark_writes_on_hottest_stack_addresses[\n",
    "    loop_iterations_benchmark_writes_on_hottest_stack_addresses['benchmark'] == 'average'\n",
    "]['writes_on_hottest_stack_address'].values[1:]\n",
    "average_loop_iterations_benchmark_writes_on_hottest_stack_addresses"
   ]
  },
  {
   "cell_type": "code",
   "execution_count": 17,
   "id": "f42a23a0-67a0-4dd0-991c-bd57db5a23f1",
   "metadata": {},
   "outputs": [
    {
     "name": "stdout",
     "output_type": "stream",
     "text": [
      "\\begin{table}\n",
      "\\centering\n",
      "\\caption{Average Maximum Stack Usages and Average Writes on Hottest Stack Address Under Different Recursion Depth Limits}\n",
      "\\label{table:average_maximum_stack_usages_and_average_writes_on_hottest_stack_address_under_different_recursion_depth_limits}\n",
      "\\begin{tabular}{lrr}\n",
      "\\toprule\n",
      "Recursion Depth Limit &  Average Maximum Stack Usages &  Average Writes on Hottest Stack Address \\\\\n",
      "\\midrule\n",
      "                   08 &                      6.25e+05 &                                 2.53e+05 \\\\\n",
      "                   16 &                      6.25e+05 &                                 1.89e+05 \\\\\n",
      "                   32 &                      6.27e+05 &                                 1.62e+05 \\\\\n",
      "                   64 &                      6.30e+05 &                                 1.46e+05 \\\\\n",
      "\\bottomrule\n",
      "\\end{tabular}\n",
      "\\end{table}\n",
      "\n"
     ]
    }
   ],
   "source": [
    "average_maximum_stack_usages_and_average_writes_on_hottest_stack_address_under_different_recursion_depth_limits = pd.DataFrame({\n",
    "    'Recursion Depth Limit': list(recursion_depth_limit_executable_type_renaming.values())[:-1],\n",
    "    'Average Maximum Stack Usages': average_recursion_depth_limit_benchmark_max_stack_usages,\n",
    "    'Average Writes on Hottest Stack Address': average_recursion_depth_limit_benchmark_writes_on_hottest_stack_addresses\n",
    "}).to_latex(\n",
    "    caption='Average Maximum Stack Usages and Average Writes on Hottest Stack Address Under Different Recursion Depth Limits',\n",
    "    label='table:average_maximum_stack_usages_and_average_writes_on_hottest_stack_address_under_different_recursion_depth_limits',\n",
    "    index=False\n",
    ")\n",
    "\n",
    "print(average_maximum_stack_usages_and_average_writes_on_hottest_stack_address_under_different_recursion_depth_limits)"
   ]
  },
  {
   "cell_type": "code",
   "execution_count": 18,
   "id": "2a057843-ec7d-4bd6-9e0a-e4cf8304152e",
   "metadata": {},
   "outputs": [
    {
     "name": "stdout",
     "output_type": "stream",
     "text": [
      "\\begin{table}\n",
      "\\centering\n",
      "\\caption{Average Maximum Stack Usages and Average Writes on Hottest Stack Address Under Different Loop Iterations}\n",
      "\\label{table:average_maximum_stack_usages_and_average_writes_on_hottest_stack_address_under_different_loop_iterations}\n",
      "\\begin{tabular}{lrr}\n",
      "\\toprule\n",
      "Loop Iterations &  Average Maximum Stack Usages &  Average Writes on Hottest Stack Address \\\\\n",
      "\\midrule\n",
      "             08 &                      1.82e+06 &                                 1.64e+05 \\\\\n",
      "             16 &                      1.22e+06 &                                 2.16e+05 \\\\\n",
      "             32 &                      9.21e+05 &                                 3.06e+05 \\\\\n",
      "             64 &                      7.73e+05 &                                 4.51e+05 \\\\\n",
      "\\bottomrule\n",
      "\\end{tabular}\n",
      "\\end{table}\n",
      "\n"
     ]
    }
   ],
   "source": [
    "average_maximum_stack_usages_and_average_writes_on_hottest_stack_address_under_different_loop_iterations = pd.DataFrame({\n",
    "    'Loop Iterations': list(loop_iterations_executable_type_renaming.values())[1:],\n",
    "    'Average Maximum Stack Usages': average_loop_iterations_benchmark_max_stack_usages,\n",
    "    'Average Writes on Hottest Stack Address': average_loop_iterations_benchmark_writes_on_hottest_stack_addresses\n",
    "}).to_latex(\n",
    "    caption='Average Maximum Stack Usages and Average Writes on Hottest Stack Address Under Different Loop Iterations',\n",
    "    label='table:average_maximum_stack_usages_and_average_writes_on_hottest_stack_address_under_different_loop_iterations',\n",
    "    index=False\n",
    ")\n",
    "\n",
    "print(average_maximum_stack_usages_and_average_writes_on_hottest_stack_address_under_different_loop_iterations)"
   ]
  },
  {
   "cell_type": "code",
   "execution_count": 19,
   "id": "d342805b-3dae-4985-bf5e-2f3cae19eddf",
   "metadata": {},
   "outputs": [],
   "source": [
    "import itertools"
   ]
  },
  {
   "cell_type": "code",
   "execution_count": 20,
   "id": "f21e4468-9c82-4cf8-a66c-d569e5aa0afb",
   "metadata": {},
   "outputs": [],
   "source": [
    "import statistics"
   ]
  },
  {
   "cell_type": "code",
   "execution_count": 21,
   "id": "e651eb67-7ad0-433f-bfe4-bd7ed450a771",
   "metadata": {},
   "outputs": [],
   "source": [
    "average_benchmark_writes_on_hottest_stack_addresses_mean = statistics.mean(\n",
    "    itertools.chain(\n",
    "        average_recursion_depth_limit_benchmark_writes_on_hottest_stack_addresses,\n",
    "        average_loop_iterations_benchmark_writes_on_hottest_stack_addresses\n",
    "    )\n",
    ")\n",
    "\n",
    "average_benchmark_writes_on_hottest_stack_addresses_stdev = statistics.stdev(\n",
    "    itertools.chain(\n",
    "        average_recursion_depth_limit_benchmark_writes_on_hottest_stack_addresses,\n",
    "        average_loop_iterations_benchmark_writes_on_hottest_stack_addresses\n",
    "    )\n",
    ")"
   ]
  },
  {
   "cell_type": "code",
   "execution_count": 22,
   "id": "689827ca-d766-4d67-958f-a1d2750845fa",
   "metadata": {},
   "outputs": [],
   "source": [
    "average_benchmark_max_stack_usages_mean = statistics.mean(\n",
    "    itertools.chain(\n",
    "        average_recursion_depth_limit_benchmark_max_stack_usages,\n",
    "        average_loop_iterations_benchmark_max_stack_usages\n",
    "    )\n",
    ")\n",
    "\n",
    "average_benchmark_max_stack_usages_stdev = statistics.stdev(\n",
    "    itertools.chain(\n",
    "        average_recursion_depth_limit_benchmark_max_stack_usages,\n",
    "        average_loop_iterations_benchmark_max_stack_usages\n",
    "    )\n",
    ")"
   ]
  },
  {
   "cell_type": "code",
   "execution_count": 23,
   "id": "7c6d8156-5c76-446c-89d2-41612ed7db2b",
   "metadata": {},
   "outputs": [],
   "source": [
    "normalized_average_recursion_depth_limit_benchmark_writes_on_hottest_stack_addresses = (\n",
    "    average_recursion_depth_limit_benchmark_writes_on_hottest_stack_addresses - average_benchmark_writes_on_hottest_stack_addresses_mean\n",
    ") / average_benchmark_writes_on_hottest_stack_addresses_stdev"
   ]
  },
  {
   "cell_type": "code",
   "execution_count": 24,
   "id": "9d01ed4d-0a3b-4f29-99d8-39d311b4e1e5",
   "metadata": {},
   "outputs": [
    {
     "data": {
      "text/plain": [
       "array([ 0.17076279, -0.4584618 , -0.72650657, -0.88481316])"
      ]
     },
     "execution_count": 24,
     "metadata": {},
     "output_type": "execute_result"
    }
   ],
   "source": [
    "normalized_average_recursion_depth_limit_benchmark_writes_on_hottest_stack_addresses"
   ]
  },
  {
   "cell_type": "code",
   "execution_count": 25,
   "id": "c12cc030-616e-4cf4-a44d-913e96a356c5",
   "metadata": {},
   "outputs": [],
   "source": [
    "normalized_average_loop_iterations_benchmark_writes_on_hottest_stack_addresses = (\n",
    "    average_loop_iterations_benchmark_writes_on_hottest_stack_addresses - average_benchmark_writes_on_hottest_stack_addresses_mean\n",
    ") / average_benchmark_writes_on_hottest_stack_addresses_stdev"
   ]
  },
  {
   "cell_type": "code",
   "execution_count": 26,
   "id": "bb88eee5-c50e-4afd-8c1e-b0ee91ca442e",
   "metadata": {},
   "outputs": [
    {
     "data": {
      "text/plain": [
       "array([-0.70248826, -0.19479374,  0.68791679,  2.10838394])"
      ]
     },
     "execution_count": 26,
     "metadata": {},
     "output_type": "execute_result"
    }
   ],
   "source": [
    "normalized_average_loop_iterations_benchmark_writes_on_hottest_stack_addresses"
   ]
  },
  {
   "cell_type": "code",
   "execution_count": 27,
   "id": "48342e68-6b95-4d94-88a0-ba30403d83ed",
   "metadata": {},
   "outputs": [],
   "source": [
    "normalized_average_recursion_depth_limit_benchmark_max_stack_usages = (\n",
    "    average_recursion_depth_limit_benchmark_max_stack_usages - average_benchmark_max_stack_usages_mean\n",
    ") / average_benchmark_max_stack_usages_stdev"
   ]
  },
  {
   "cell_type": "code",
   "execution_count": 28,
   "id": "89ebdff1-544f-4ecc-8921-a959eeb0fdd4",
   "metadata": {},
   "outputs": [
    {
     "data": {
      "text/plain": [
       "array([-0.65977725, -0.65825116, -0.65486885, -0.64788994])"
      ]
     },
     "execution_count": 28,
     "metadata": {},
     "output_type": "execute_result"
    }
   ],
   "source": [
    "normalized_average_recursion_depth_limit_benchmark_max_stack_usages"
   ]
  },
  {
   "cell_type": "code",
   "execution_count": 29,
   "id": "15498ebb-c83e-473e-a9b9-a239b908e37f",
   "metadata": {},
   "outputs": [],
   "source": [
    "normalized_average_loop_iterations_benchmark_max_stack_usages = (\n",
    "    average_loop_iterations_benchmark_max_stack_usages - average_benchmark_max_stack_usages_mean\n",
    ") / average_benchmark_max_stack_usages_stdev"
   ]
  },
  {
   "cell_type": "code",
   "execution_count": 30,
   "id": "14ce9bec-42e5-43d9-9808-4d1ef06e0455",
   "metadata": {},
   "outputs": [
    {
     "data": {
      "text/plain": [
       "array([ 2.15231167,  0.74257505,  0.03810202, -0.31220154])"
      ]
     },
     "execution_count": 30,
     "metadata": {},
     "output_type": "execute_result"
    }
   ],
   "source": [
    "normalized_average_loop_iterations_benchmark_max_stack_usages"
   ]
  },
  {
   "cell_type": "code",
   "execution_count": 31,
   "id": "005273fb-5f4d-4ee9-b121-fdc7a151e63c",
   "metadata": {},
   "outputs": [],
   "source": [
    "from regression import regression"
   ]
  },
  {
   "cell_type": "code",
   "execution_count": 32,
   "id": "31008eb1-ef8e-48a0-8e26-80b77fb6d123",
   "metadata": {},
   "outputs": [],
   "source": [
    "def f(x, a, b):\n",
    "    return -a * x + b"
   ]
  },
  {
   "cell_type": "code",
   "execution_count": 33,
   "id": "f5c65406-7fcf-4349-a75f-659506990bfa",
   "metadata": {},
   "outputs": [],
   "source": [
    "def g(x, a, b, c):\n",
    "    return a * np.exp(-b * x) + c"
   ]
  },
  {
   "cell_type": "code",
   "execution_count": 34,
   "id": "c0163ea3-2fc2-4a21-84f5-43f2e5b2e281",
   "metadata": {},
   "outputs": [
    {
     "data": {
      "text/plain": [
       "'-0.0094 * x + -0.6597, r^2 = 0.6814'"
      ]
     },
     "execution_count": 34,
     "metadata": {},
     "output_type": "execute_result"
    }
   ],
   "source": [
    "normalized_average_recursion_depth_limit_parameter_values, normalized_average_recursion_depth_limit_r_squared = regression(\n",
    "    f,\n",
    "    normalized_average_recursion_depth_limit_benchmark_writes_on_hottest_stack_addresses,\n",
    "    normalized_average_recursion_depth_limit_benchmark_max_stack_usages,\n",
    ")\n",
    "normalized_average_recursion_depth_limit_r_squared\n",
    "normalized_average_recursion_depth_limit_f = '-%.4f * x + %.4f, r^2 = %.4f' % (*normalized_average_recursion_depth_limit_parameter_values, normalized_average_recursion_depth_limit_r_squared)\n",
    "normalized_average_recursion_depth_limit_f"
   ]
  },
  {
   "cell_type": "code",
   "execution_count": 35,
   "id": "05fd5ac3-0447-4836-87f7-8a40243c47c8",
   "metadata": {},
   "outputs": [
    {
     "data": {
      "text/plain": [
       "'0.7934 * exp(-1.5986 * x) + -0.2983, r^2 = 0.9975'"
      ]
     },
     "execution_count": 35,
     "metadata": {},
     "output_type": "execute_result"
    }
   ],
   "source": [
    "normalized_average_loop_iterations_parameter_values, normalized_average_loop_iterations_r_squared = regression(\n",
    "    g,\n",
    "    normalized_average_loop_iterations_benchmark_writes_on_hottest_stack_addresses,\n",
    "    normalized_average_loop_iterations_benchmark_max_stack_usages,\n",
    ")\n",
    "\n",
    "normalized_average_loop_iterations_g = '%.4f * exp(-%.4f * x) + %.4f, r^2 = %.4f' % (*normalized_average_loop_iterations_parameter_values, normalized_average_loop_iterations_r_squared)\n",
    "normalized_average_loop_iterations_g"
   ]
  },
  {
   "cell_type": "code",
   "execution_count": 36,
   "id": "b787cf21-7e3c-48cc-9d26-17be2c228523",
   "metadata": {},
   "outputs": [],
   "source": [
    "x_start = min(\n",
    "    min(normalized_average_recursion_depth_limit_benchmark_writes_on_hottest_stack_addresses),\n",
    "    min(normalized_average_loop_iterations_benchmark_writes_on_hottest_stack_addresses)\n",
    ")\n",
    "\n",
    "x_stop = max(\n",
    "    max(normalized_average_recursion_depth_limit_benchmark_writes_on_hottest_stack_addresses),\n",
    "    max(normalized_average_loop_iterations_benchmark_writes_on_hottest_stack_addresses)\n",
    ")\n",
    "\n",
    "x = np.arange(x_start, x_stop, (x_stop - x_start) / 20)"
   ]
  },
  {
   "cell_type": "code",
   "execution_count": 37,
   "id": "ed336ce8-5190-4f4d-9a32-52a347e6128b",
   "metadata": {},
   "outputs": [
    {
     "data": {
      "application/vnd.jupyter.widget-view+json": {
       "model_id": "01a6d8b5a69c4820b7a424389dc0a20c",
       "version_major": 2,
       "version_minor": 0
      },
      "image/png": "[encoded data removed]",
      "text/html": [
       "\n",
       "            <div style=\"display: inline-block;\">\n",
       "                <div class=\"jupyter-widgets widget-label\" style=\"text-align: center;\">\n",
       "                    Figure\n",
       "                </div>\n",
       "                <img src='data:image/png;base64,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' width=1000.0/>\n",
       "            </div>\n",
       "        "
      ],
      "text/plain": [
       "Canvas(toolbar=Toolbar(toolitems=[('Home', 'Reset original view', 'home', 'home'), ('Back', 'Back to previous …"
      ]
     },
     "metadata": {},
     "output_type": "display_data"
    }
   ],
   "source": [
    "average_maximum_stack_usages_and_average_writes_on_hottest_stack_address_under_different_recursion_depth_limits_and_loop_iterations, ax = plt.subplots()\n",
    "\n",
    "ax.scatter(\n",
    "    normalized_average_recursion_depth_limit_benchmark_writes_on_hottest_stack_addresses,\n",
    "    normalized_average_recursion_depth_limit_benchmark_max_stack_usages,\n",
    "    label='Limiting Recursion Depth'\n",
    ")\n",
    "\n",
    "ax.scatter(\n",
    "    normalized_average_loop_iterations_benchmark_writes_on_hottest_stack_addresses,\n",
    "    normalized_average_loop_iterations_benchmark_max_stack_usages,\n",
    "    label='Retaining a Portion of the Loop in the Recursive Function'\n",
    ")\n",
    "\n",
    "ax.plot(x, f(x, *normalized_average_recursion_depth_limit_parameter_values), linestyle='dashed', label=normalized_average_recursion_depth_limit_f)\n",
    "ax.plot(x, g(x, *normalized_average_loop_iterations_parameter_values), linestyle='dashed', label=normalized_average_loop_iterations_g)\n",
    "\n",
    "ax.set_xlabel('Normalized Average Writes on Hottest Stack Address')\n",
    "ax.set_ylabel('Normalized Average Maximum Stack Usages')\n",
    "\n",
    "ax.legend()\n",
    "ax.grid(True)"
   ]
  },
  {
   "cell_type": "code",
   "execution_count": 38,
   "id": "8a8c6792-0596-4242-921a-beb6c690e1d1",
   "metadata": {},
   "outputs": [],
   "source": [
    "average_maximum_stack_usages_and_average_writes_on_hottest_stack_address_under_different_recursion_depth_limits_and_loop_iterations.savefig(\n",
    "    'average_maximum_stack_usages_and_average_writes_on_hottest_stack_address_under_different_recursion_depth_limits_and_loop_iterations.pdf'\n",
    ")"
   ]
  },
  {
   "cell_type": "code",
   "execution_count": null,
   "id": "d0b0b862-b168-40af-b304-a4a62d0ff4cb",
   "metadata": {},
   "outputs": [],
   "source": []
  }
 ],
 "metadata": {
  "kernelspec": {
   "display_name": "Python 3 (ipykernel)",
   "language": "python",
   "name": "python3"
  },
  "language_info": {
   "codemirror_mode": {
    "name": "ipython",
    "version": 3
   },
   "file_extension": ".py",
   "mimetype": "text/x-python",
   "name": "python",
   "nbconvert_exporter": "python",
   "pygments_lexer": "ipython3",
   "version": "3.7.12"
  }
 },
 "nbformat": 4,
 "nbformat_minor": 5
}
