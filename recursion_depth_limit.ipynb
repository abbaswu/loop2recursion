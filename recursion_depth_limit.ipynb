{
 "cells": [
  {
   "cell_type": "code",
   "execution_count": 1,
   "id": "07ef9ffc-fad7-4935-9345-b808d7a49239",
   "metadata": {},
   "outputs": [],
   "source": [
    "from matplotlib import pyplot as plt\n",
    "\n",
    "%matplotlib ipympl\n",
    "\n",
    "plt.rcParams['figure.figsize'] = [10, 5]\n",
    "plt.rcParams['font.size'] = 7.5\n",
    "# 用来正常显示中文标签\n",
    "plt.rcParams['font.family'] = 'sans-serif' \n",
    "plt.rcParams['figure.autolayout'] = True\n",
    "# 用来正常显示负号\n",
    "plt.rcParams['axes.unicode_minus'] = False \n",
    "plt.rcParams['axes.xmargin'] = 0\n",
    "plt.rcParams['axes.ymargin'] = 0"
   ]
  },
  {
   "cell_type": "code",
   "execution_count": 2,
   "id": "1441cbc8-0914-4d54-93c4-78bba63a2546",
   "metadata": {},
   "outputs": [],
   "source": [
    "import numpy as np\n",
    "import pandas as pd\n",
    "import pylatex\n",
    "pd.set_option('precision', 2)\n",
    "\n",
    "from calculate_increases import calculate_increases\n",
    "from line_chart_with_multiple_lines import line_chart_with_multiple_lines\n",
    "from grouped_bar_chart import grouped_bar_chart\n",
    "from parse_data import *"
   ]
  },
  {
   "cell_type": "code",
   "execution_count": 3,
   "id": "0b2e821f-64c4-4444-a119-eed093d8e3ed",
   "metadata": {},
   "outputs": [],
   "source": [
    "benchmark_max_stack_usages = parse_profile_data_in_directory_to_dataframe(\n",
    "    parse_json_format_profile_data_directory('benchmark_max_stack_usages', 'stack_size'),\n",
    "    'max_stack_usage',\n",
    "    True\n",
    ")\n",
    "\n",
    "benchmark_instruction_counts = parse_profile_data_in_directory_to_dataframe(\n",
    "    parse_benchmark_instruction_counts_directory('benchmark_instruction_counts'),\n",
    "    'instruction_count',\n",
    "    True\n",
    ")\n",
    "\n",
    "benchmark_writes_on_hottest_stack_addresses = parse_profile_data_in_directory_to_dataframe(\n",
    "    parse_json_format_profile_data_directory('benchmark_writes_on_hottest_stack_addresses', 'writes'),\n",
    "    'writes_on_hottest_stack_address',\n",
    "    True\n",
    ")\n",
    "\n",
    "max_number_of_stack_frames_on_a_stack_address = parse_profile_data_in_directory_to_dataframe(\n",
    "    parse_json_format_profile_data_directory('max_number_of_stack_frames_on_a_stack_address', 'number_of_stack_frames'),\n",
    "    'max_number_of_stack_frames_on_a_stack_address',\n",
    "    True\n",
    ")\n",
    "\n",
    "writes_on_hottest_address_in_stack_frames = parse_profile_data_in_directory_to_dataframe(\n",
    "    parse_json_format_profile_data_directory('writes_on_hottest_address_in_stack_frames', 'writes'),\n",
    "    'writes_on_hottest_address_in_stack_frames',\n",
    "    True\n",
    ")"
   ]
  },
  {
   "cell_type": "code",
   "execution_count": 4,
   "id": "bdbc03a7-b042-4917-8950-749ad693d706",
   "metadata": {},
   "outputs": [],
   "source": [
    "import re"
   ]
  },
  {
   "cell_type": "code",
   "execution_count": 5,
   "id": "684f1139-206a-48f2-bda6-7ff4e2c0194a",
   "metadata": {},
   "outputs": [
    {
     "data": {
      "text/plain": [
       "[8, 16, 32, 64]"
      ]
     },
     "execution_count": 5,
     "metadata": {},
     "output_type": "execute_result"
    }
   ],
   "source": [
    "def f(types_of_benchmarks):\n",
    "    recursion_depth_limit_benchmark_type_pattern = re.compile(r'new_loop2recursion-recursion_depth_limit-(\\d+)')\n",
    "    for benchmark_type in types_of_benchmarks:\n",
    "        match = recursion_depth_limit_benchmark_type_pattern.match(benchmark_type)\n",
    "        if match:\n",
    "            recursion_depth_limit_string, *_ = match.groups()\n",
    "            recursion_depth_limit = int(recursion_depth_limit_string)\n",
    "            yield recursion_depth_limit\n",
    "\n",
    "recursion_depth_limit_list = list(f(benchmark_max_stack_usages['executable_type'].unique()))\n",
    "recursion_depth_limit_list.sort()\n",
    "recursion_depth_limit_list"
   ]
  },
  {
   "cell_type": "code",
   "execution_count": 6,
   "id": "c621bc5b-3d4a-4fe6-ac08-e88317b6d0b6",
   "metadata": {},
   "outputs": [
    {
     "data": {
      "text/plain": [
       "{'new_loop2recursion-recursion_depth_limit-8': '08',\n",
       " 'new_loop2recursion-recursion_depth_limit-16': '16',\n",
       " 'new_loop2recursion-recursion_depth_limit-32': '32',\n",
       " 'new_loop2recursion-recursion_depth_limit-64': '64',\n",
       " 'new_loop2recursion': 'Unlimited'}"
      ]
     },
     "execution_count": 6,
     "metadata": {},
     "output_type": "execute_result"
    }
   ],
   "source": [
    "recursion_depth_limit_executable_type_renaming = {\n",
    "    f'new_loop2recursion-recursion_depth_limit-{recursion_depth_limit}': f'{recursion_depth_limit:02}'\n",
    "    for recursion_depth_limit in recursion_depth_limit_list\n",
    "}\n",
    "\n",
    "recursion_depth_limit_executable_type_renaming['new_loop2recursion'] = 'Unlimited'\n",
    "\n",
    "recursion_depth_limit_executable_type_renaming"
   ]
  },
  {
   "cell_type": "code",
   "execution_count": 7,
   "id": "cb358b0c-9eef-4920-b7d2-36a76552e73f",
   "metadata": {},
   "outputs": [
    {
     "data": {
      "text/html": [
       "<div>\n",
       "<style scoped>\n",
       "    .dataframe tbody tr th:only-of-type {\n",
       "        vertical-align: middle;\n",
       "    }\n",
       "\n",
       "    .dataframe tbody tr th {\n",
       "        vertical-align: top;\n",
       "    }\n",
       "\n",
       "    .dataframe thead th {\n",
       "        text-align: right;\n",
       "    }\n",
       "</style>\n",
       "<table border=\"1\" class=\"dataframe\">\n",
       "  <thead>\n",
       "    <tr style=\"text-align: right;\">\n",
       "      <th></th>\n",
       "      <th>executable_type</th>\n",
       "      <th>benchmark</th>\n",
       "      <th>max_stack_usage</th>\n",
       "    </tr>\n",
       "  </thead>\n",
       "  <tbody>\n",
       "    <tr>\n",
       "      <th>225</th>\n",
       "      <td>08</td>\n",
       "      <td>average</td>\n",
       "      <td>6.25e+05</td>\n",
       "    </tr>\n",
       "    <tr>\n",
       "      <th>227</th>\n",
       "      <td>16</td>\n",
       "      <td>average</td>\n",
       "      <td>6.25e+05</td>\n",
       "    </tr>\n",
       "    <tr>\n",
       "      <th>234</th>\n",
       "      <td>32</td>\n",
       "      <td>average</td>\n",
       "      <td>6.27e+05</td>\n",
       "    </tr>\n",
       "    <tr>\n",
       "      <th>223</th>\n",
       "      <td>64</td>\n",
       "      <td>average</td>\n",
       "      <td>6.30e+05</td>\n",
       "    </tr>\n",
       "    <tr>\n",
       "      <th>236</th>\n",
       "      <td>Unlimited</td>\n",
       "      <td>average</td>\n",
       "      <td>4.49e+06</td>\n",
       "    </tr>\n",
       "    <tr>\n",
       "      <th>...</th>\n",
       "      <td>...</td>\n",
       "      <td>...</td>\n",
       "      <td>...</td>\n",
       "    </tr>\n",
       "    <tr>\n",
       "      <th>58</th>\n",
       "      <td>08</td>\n",
       "      <td>susan</td>\n",
       "      <td>3.72e+05</td>\n",
       "    </tr>\n",
       "    <tr>\n",
       "      <th>84</th>\n",
       "      <td>16</td>\n",
       "      <td>susan</td>\n",
       "      <td>3.72e+05</td>\n",
       "    </tr>\n",
       "    <tr>\n",
       "      <th>175</th>\n",
       "      <td>32</td>\n",
       "      <td>susan</td>\n",
       "      <td>3.74e+05</td>\n",
       "    </tr>\n",
       "    <tr>\n",
       "      <th>32</th>\n",
       "      <td>64</td>\n",
       "      <td>susan</td>\n",
       "      <td>3.83e+05</td>\n",
       "    </tr>\n",
       "    <tr>\n",
       "      <th>201</th>\n",
       "      <td>Unlimited</td>\n",
       "      <td>susan</td>\n",
       "      <td>3.81e+05</td>\n",
       "    </tr>\n",
       "  </tbody>\n",
       "</table>\n",
       "<p>70 rows × 3 columns</p>\n",
       "</div>"
      ],
      "text/plain": [
       "    executable_type benchmark  max_stack_usage\n",
       "225              08   average         6.25e+05\n",
       "227              16   average         6.25e+05\n",
       "234              32   average         6.27e+05\n",
       "223              64   average         6.30e+05\n",
       "236       Unlimited   average         4.49e+06\n",
       "..              ...       ...              ...\n",
       "58               08     susan         3.72e+05\n",
       "84               16     susan         3.72e+05\n",
       "175              32     susan         3.74e+05\n",
       "32               64     susan         3.83e+05\n",
       "201       Unlimited     susan         3.81e+05\n",
       "\n",
       "[70 rows x 3 columns]"
      ]
     },
     "execution_count": 7,
     "metadata": {},
     "output_type": "execute_result"
    }
   ],
   "source": [
    "recursion_depth_limit_benchmark_max_stack_usages = benchmark_max_stack_usages[\n",
    "    benchmark_max_stack_usages['executable_type'].isin(\n",
    "        recursion_depth_limit_executable_type_renaming\n",
    "    )\n",
    "].replace(\n",
    "    to_replace=recursion_depth_limit_executable_type_renaming\n",
    ").sort_values(\n",
    "    by=['benchmark', 'executable_type']\n",
    ")\n",
    "\n",
    "recursion_depth_limit_benchmark_max_stack_usages"
   ]
  },
  {
   "cell_type": "code",
   "execution_count": 8,
   "id": "d763efd8-3ecd-4ded-84fd-0a3f553e4f55",
   "metadata": {},
   "outputs": [
    {
     "data": {
      "text/plain": [
       "(<Figure size 1000x500 with 1 Axes>,\n",
       " <AxesSubplot:xlabel='Benchmark', ylabel='Maximum Stack Usage'>)"
      ]
     },
     "execution_count": 8,
     "metadata": {},
     "output_type": "execute_result"
    },
    {
     "data": {
      "application/vnd.jupyter.widget-view+json": {
       "model_id": "bee6794a85254654910f49370d3b9caf",
       "version_major": 2,
       "version_minor": 0
      },
      "image/png": "[encoded data removed]",
      "text/html": [
       "\n",
       "            <div style=\"display: inline-block;\">\n",
       "                <div class=\"jupyter-widgets widget-label\" style=\"text-align: center;\">\n",
       "                    Figure\n",
       "                </div>\n",
       "                <img src='data:image/png;base64,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' width=1000.0/>\n",
       "            </div>\n",
       "        "
      ],
      "text/plain": [
       "Canvas(toolbar=Toolbar(toolitems=[('Home', 'Reset original view', 'home', 'home'), ('Back', 'Back to previous …"
      ]
     },
     "metadata": {},
     "output_type": "display_data"
    }
   ],
   "source": [
    "grouped_bar_chart(\n",
    "    groups=recursion_depth_limit_benchmark_max_stack_usages['benchmark'].unique(),\n",
    "    labels=recursion_depth_limit_executable_type_renaming.values(),\n",
    "    data_by_label = (\n",
    "        recursion_depth_limit_benchmark_max_stack_usages[\n",
    "            recursion_depth_limit_benchmark_max_stack_usages['executable_type'] == recursion_depth_limit_executable_type\n",
    "        ]['max_stack_usage']\n",
    "        for recursion_depth_limit_executable_type in recursion_depth_limit_executable_type_renaming.values()\n",
    "    ),\n",
    "    xlabel='Benchmark',\n",
    "    ylabel='Maximum Stack Usage',\n",
    "    log=True\n",
    ")"
   ]
  },
  {
   "cell_type": "code",
   "execution_count": 9,
   "id": "c99722c1-13de-463f-a32a-0cde2a56076f",
   "metadata": {},
   "outputs": [],
   "source": [
    "_[0].savefig('maximum_stack_usages_under_different_recursion_depth_limits.pdf')"
   ]
  },
  {
   "cell_type": "code",
   "execution_count": 10,
   "id": "ed25fa61-cd59-4247-8538-2148990f74dd",
   "metadata": {},
   "outputs": [
    {
     "name": "stdout",
     "output_type": "stream",
     "text": [
      "\\begin{table}\n",
      "\\centering\n",
      "\\caption{Maximum Stack Usages Under Different Recursion Depth Limits}\n",
      "\\label{table:maximum_stack_usages_under_different_recursion_depth_limits}\n",
      "\\begin{tabular}{lrrrrr}\n",
      "\\toprule\n",
      "benchmark &  Unlimited & 08 Change & 16 Change & 32 Change & 64 Change \\\\\n",
      "\\midrule\n",
      "  average &   4.49e+06 &   -86.10\\% &   -86.09\\% &   -86.05\\% &   -85.99\\% \\\\\n",
      "basicmath &   3.38e+04 &   -88.64\\% &   -86.88\\% &   -86.13\\% &   -86.13\\% \\\\\n",
      "       bf &   2.62e+05 &   -96.08\\% &   -95.54\\% &   -94.47\\% &   -93.34\\% \\\\\n",
      "  bitcnts &   4.80e+06 &   -99.91\\% &   -99.91\\% &   -99.90\\% &   -99.86\\% \\\\\n",
      "   crc\\_32 &   4.38e+07 &  -100.00\\% &  -100.00\\% &  -100.00\\% &   -99.99\\% \\\\\n",
      " dijkstra &   5.47e+04 &   -95.08\\% &   -92.33\\% &   -85.54\\% &   -72.90\\% \\\\\n",
      "      fft &   1.97e+05 &   -98.52\\% &   -97.88\\% &   -96.37\\% &   -94.60\\% \\\\\n",
      " patricia &   5.26e+05 &   -99.31\\% &   -99.21\\% &   -99.02\\% &   -98.63\\% \\\\\n",
      "  pbmsrch &   1.08e+04 &   -67.65\\% &   -51.11\\% &   -18.02\\% &    33.68\\% \\\\\n",
      "    qsort &   8.00e+06 &    -4.00\\% &    -3.99\\% &    -3.99\\% &    -3.97\\% \\\\\n",
      "rawcaudio &   1.87e+05 &   -93.79\\% &   -93.79\\% &   -93.79\\% &   -92.32\\% \\\\\n",
      "rawdaudio &   1.55e+05 &   -92.51\\% &   -92.51\\% &   -92.51\\% &   -92.05\\% \\\\\n",
      "      sha &   1.78e+04 &   -37.20\\% &   -30.73\\% &   -23.18\\% &   -14.02\\% \\\\\n",
      "    susan &   3.81e+05 &    -2.35\\% &    -2.35\\% &    -1.84\\% &     0.58\\% \\\\\n",
      "\\bottomrule\n",
      "\\end{tabular}\n",
      "\\end{table}\n",
      "\n"
     ]
    }
   ],
   "source": [
    "maximum_stack_usages_under_different_recursion_depth_limits = calculate_increases(\n",
    "    recursion_depth_limit_benchmark_max_stack_usages,\n",
    "    'Unlimited',\n",
    "    [\n",
    "        f'{recursion_depth_limit:02}' for recursion_depth_limit in recursion_depth_limit_list\n",
    "    ],\n",
    "    'max_stack_usage',\n",
    "    lambda executable_type: f'{executable_type} Change'\n",
    ").to_latex(\n",
    "    formatters={\n",
    "        f'{executable_type} Change': '{:,.2%}'.format\n",
    "        for executable_type in recursion_depth_limit_executable_type_renaming.values()\n",
    "    },\n",
    "    caption='Maximum Stack Usages Under Different Recursion Depth Limits',\n",
    "    label='table:maximum_stack_usages_under_different_recursion_depth_limits',\n",
    "    index=False\n",
    ")\n",
    "\n",
    "print(maximum_stack_usages_under_different_recursion_depth_limits)"
   ]
  },
  {
   "cell_type": "code",
   "execution_count": 11,
   "id": "854822b4-a954-4745-a752-e4fbcef4343d",
   "metadata": {},
   "outputs": [
    {
     "data": {
      "text/html": [
       "<div>\n",
       "<style scoped>\n",
       "    .dataframe tbody tr th:only-of-type {\n",
       "        vertical-align: middle;\n",
       "    }\n",
       "\n",
       "    .dataframe tbody tr th {\n",
       "        vertical-align: top;\n",
       "    }\n",
       "\n",
       "    .dataframe thead th {\n",
       "        text-align: right;\n",
       "    }\n",
       "</style>\n",
       "<table border=\"1\" class=\"dataframe\">\n",
       "  <thead>\n",
       "    <tr style=\"text-align: right;\">\n",
       "      <th></th>\n",
       "      <th>executable_type</th>\n",
       "      <th>benchmark</th>\n",
       "      <th>instruction_count</th>\n",
       "    </tr>\n",
       "  </thead>\n",
       "  <tbody>\n",
       "    <tr>\n",
       "      <th>225</th>\n",
       "      <td>08</td>\n",
       "      <td>average</td>\n",
       "      <td>6.93e+07</td>\n",
       "    </tr>\n",
       "    <tr>\n",
       "      <th>227</th>\n",
       "      <td>16</td>\n",
       "      <td>average</td>\n",
       "      <td>6.83e+07</td>\n",
       "    </tr>\n",
       "    <tr>\n",
       "      <th>234</th>\n",
       "      <td>32</td>\n",
       "      <td>average</td>\n",
       "      <td>6.78e+07</td>\n",
       "    </tr>\n",
       "    <tr>\n",
       "      <th>223</th>\n",
       "      <td>64</td>\n",
       "      <td>average</td>\n",
       "      <td>6.77e+07</td>\n",
       "    </tr>\n",
       "    <tr>\n",
       "      <th>236</th>\n",
       "      <td>Unlimited</td>\n",
       "      <td>average</td>\n",
       "      <td>5.90e+07</td>\n",
       "    </tr>\n",
       "    <tr>\n",
       "      <th>...</th>\n",
       "      <td>...</td>\n",
       "      <td>...</td>\n",
       "      <td>...</td>\n",
       "    </tr>\n",
       "    <tr>\n",
       "      <th>58</th>\n",
       "      <td>08</td>\n",
       "      <td>susan</td>\n",
       "      <td>8.62e+07</td>\n",
       "    </tr>\n",
       "    <tr>\n",
       "      <th>84</th>\n",
       "      <td>16</td>\n",
       "      <td>susan</td>\n",
       "      <td>8.36e+07</td>\n",
       "    </tr>\n",
       "    <tr>\n",
       "      <th>175</th>\n",
       "      <td>32</td>\n",
       "      <td>susan</td>\n",
       "      <td>8.36e+07</td>\n",
       "    </tr>\n",
       "    <tr>\n",
       "      <th>32</th>\n",
       "      <td>64</td>\n",
       "      <td>susan</td>\n",
       "      <td>8.36e+07</td>\n",
       "    </tr>\n",
       "    <tr>\n",
       "      <th>201</th>\n",
       "      <td>Unlimited</td>\n",
       "      <td>susan</td>\n",
       "      <td>6.87e+07</td>\n",
       "    </tr>\n",
       "  </tbody>\n",
       "</table>\n",
       "<p>70 rows × 3 columns</p>\n",
       "</div>"
      ],
      "text/plain": [
       "    executable_type benchmark  instruction_count\n",
       "225              08   average           6.93e+07\n",
       "227              16   average           6.83e+07\n",
       "234              32   average           6.78e+07\n",
       "223              64   average           6.77e+07\n",
       "236       Unlimited   average           5.90e+07\n",
       "..              ...       ...                ...\n",
       "58               08     susan           8.62e+07\n",
       "84               16     susan           8.36e+07\n",
       "175              32     susan           8.36e+07\n",
       "32               64     susan           8.36e+07\n",
       "201       Unlimited     susan           6.87e+07\n",
       "\n",
       "[70 rows x 3 columns]"
      ]
     },
     "execution_count": 11,
     "metadata": {},
     "output_type": "execute_result"
    }
   ],
   "source": [
    "recursion_depth_limit_benchmark_instruction_counts = benchmark_instruction_counts[\n",
    "    benchmark_instruction_counts['executable_type'].isin(\n",
    "        recursion_depth_limit_executable_type_renaming\n",
    "    )\n",
    "].replace(\n",
    "    to_replace=recursion_depth_limit_executable_type_renaming\n",
    ").sort_values(\n",
    "    by=['benchmark', 'executable_type']\n",
    ")\n",
    "\n",
    "recursion_depth_limit_benchmark_instruction_counts"
   ]
  },
  {
   "cell_type": "code",
   "execution_count": 12,
   "id": "cf99a837-ca2c-44ff-804d-475454b6b5a3",
   "metadata": {},
   "outputs": [
    {
     "data": {
      "text/plain": [
       "(<Figure size 1000x500 with 1 Axes>,\n",
       " <AxesSubplot:xlabel='Benchmark', ylabel='Instruction Count'>)"
      ]
     },
     "execution_count": 12,
     "metadata": {},
     "output_type": "execute_result"
    },
    {
     "data": {
      "application/vnd.jupyter.widget-view+json": {
       "model_id": "03ee66be106c4a8e869fe1fa43f78121",
       "version_major": 2,
       "version_minor": 0
      },
      "image/png": "[encoded data removed]",
      "text/html": [
       "\n",
       "            <div style=\"display: inline-block;\">\n",
       "                <div class=\"jupyter-widgets widget-label\" style=\"text-align: center;\">\n",
       "                    Figure\n",
       "                </div>\n",
       "                <img src='data:image/png;base64,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' width=1000.0/>\n",
       "            </div>\n",
       "        "
      ],
      "text/plain": [
       "Canvas(toolbar=Toolbar(toolitems=[('Home', 'Reset original view', 'home', 'home'), ('Back', 'Back to previous …"
      ]
     },
     "metadata": {},
     "output_type": "display_data"
    }
   ],
   "source": [
    "grouped_bar_chart(\n",
    "    groups=recursion_depth_limit_benchmark_instruction_counts['benchmark'].unique(),\n",
    "    labels=recursion_depth_limit_executable_type_renaming.values(),\n",
    "    data_by_label = (\n",
    "        recursion_depth_limit_benchmark_instruction_counts[\n",
    "            recursion_depth_limit_benchmark_instruction_counts['executable_type'] == recursion_depth_limit_executable_type\n",
    "        ]['instruction_count']\n",
    "        for recursion_depth_limit_executable_type in recursion_depth_limit_executable_type_renaming.values()\n",
    "    ),\n",
    "    xlabel='Benchmark',\n",
    "    ylabel='Instruction Count',\n",
    "    log=True\n",
    ")"
   ]
  },
  {
   "cell_type": "code",
   "execution_count": 13,
   "id": "bf3c7e8c-2b2e-473b-a6ef-e6dc3155066a",
   "metadata": {},
   "outputs": [],
   "source": [
    "_[0].savefig('instruction_counts_under_different_recursion_depth_limits.pdf')"
   ]
  },
  {
   "cell_type": "code",
   "execution_count": 14,
   "id": "a811f542-3499-4baa-a5d9-0363fe03e3ab",
   "metadata": {},
   "outputs": [
    {
     "name": "stdout",
     "output_type": "stream",
     "text": [
      "\\begin{table}\n",
      "\\centering\n",
      "\\caption{Instruction Counts Under Different Recursion Depth Limits}\n",
      "\\label{table:instruction_counts_under_different_recursion_depth_limits}\n",
      "\\begin{tabular}{lrrrrr}\n",
      "\\toprule\n",
      "benchmark &  Unlimited & 08 Change & 16 Change & 32 Change & 64 Change \\\\\n",
      "\\midrule\n",
      "  average &   5.90e+07 &    17.50\\% &    15.79\\% &    15.05\\% &    14.82\\% \\\\\n",
      "basicmath &   4.97e+07 &     1.57\\% &     1.46\\% &     1.42\\% &     1.42\\% \\\\\n",
      "       bf &   5.62e+07 &    15.45\\% &    14.53\\% &    14.07\\% &    13.61\\% \\\\\n",
      "  bitcnts &   1.04e+08 &    36.42\\% &    32.98\\% &    31.24\\% &    31.12\\% \\\\\n",
      "   crc\\_32 &   5.07e+07 &    25.29\\% &    23.44\\% &    22.51\\% &    22.05\\% \\\\\n",
      " dijkstra &   1.17e+08 &    26.06\\% &    24.52\\% &    23.75\\% &    23.29\\% \\\\\n",
      "      fft &   3.05e+07 &     1.84\\% &     1.73\\% &     1.68\\% &     1.66\\% \\\\\n",
      " patricia &   7.24e+07 &     1.76\\% &     1.44\\% &     1.56\\% &     1.44\\% \\\\\n",
      "  pbmsrch &   1.70e+05 &     4.93\\% &     4.89\\% &     4.88\\% &     4.87\\% \\\\\n",
      "    qsort &   1.46e+07 &     1.21\\% &     2.80\\% &     1.12\\% &     3.02\\% \\\\\n",
      "rawcaudio &   1.01e+08 &     9.09\\% &     7.61\\% &     6.88\\% &     6.49\\% \\\\\n",
      "rawdaudio &   7.98e+07 &    11.45\\% &     9.59\\% &     8.66\\% &     8.18\\% \\\\\n",
      "      sha &   2.26e+07 &    25.86\\% &    23.22\\% &    20.74\\% &    20.73\\% \\\\\n",
      "    susan &   6.87e+07 &    25.51\\% &    21.64\\% &    21.63\\% &    21.63\\% \\\\\n",
      "\\bottomrule\n",
      "\\end{tabular}\n",
      "\\end{table}\n",
      "\n"
     ]
    }
   ],
   "source": [
    "instruction_counts_under_different_recursion_depth_limits = calculate_increases(\n",
    "    recursion_depth_limit_benchmark_instruction_counts,\n",
    "    'Unlimited',\n",
    "    [\n",
    "        f'{recursion_depth_limit:02}' for recursion_depth_limit in recursion_depth_limit_list\n",
    "    ],\n",
    "    'instruction_count',\n",
    "    lambda executable_type: f'{executable_type} Change'\n",
    ").to_latex(\n",
    "    formatters={\n",
    "        f'{executable_type} Change': '{:,.2%}'.format\n",
    "        for executable_type in recursion_depth_limit_executable_type_renaming.values()\n",
    "    },\n",
    "    caption='Instruction Counts Under Different Recursion Depth Limits',\n",
    "    label='table:instruction_counts_under_different_recursion_depth_limits',\n",
    "    index=False\n",
    ")\n",
    "\n",
    "print(instruction_counts_under_different_recursion_depth_limits)"
   ]
  },
  {
   "cell_type": "code",
   "execution_count": 15,
   "id": "e044df0d-9296-42fb-9cfd-b9324bfb6c33",
   "metadata": {},
   "outputs": [
    {
     "data": {
      "text/html": [
       "<div>\n",
       "<style scoped>\n",
       "    .dataframe tbody tr th:only-of-type {\n",
       "        vertical-align: middle;\n",
       "    }\n",
       "\n",
       "    .dataframe tbody tr th {\n",
       "        vertical-align: top;\n",
       "    }\n",
       "\n",
       "    .dataframe thead th {\n",
       "        text-align: right;\n",
       "    }\n",
       "</style>\n",
       "<table border=\"1\" class=\"dataframe\">\n",
       "  <thead>\n",
       "    <tr style=\"text-align: right;\">\n",
       "      <th></th>\n",
       "      <th>executable_type</th>\n",
       "      <th>benchmark</th>\n",
       "      <th>writes_on_hottest_stack_address</th>\n",
       "    </tr>\n",
       "  </thead>\n",
       "  <tbody>\n",
       "    <tr>\n",
       "      <th>225</th>\n",
       "      <td>08</td>\n",
       "      <td>average</td>\n",
       "      <td>253315.08</td>\n",
       "    </tr>\n",
       "    <tr>\n",
       "      <th>227</th>\n",
       "      <td>16</td>\n",
       "      <td>average</td>\n",
       "      <td>189150.85</td>\n",
       "    </tr>\n",
       "    <tr>\n",
       "      <th>234</th>\n",
       "      <td>32</td>\n",
       "      <td>average</td>\n",
       "      <td>161817.38</td>\n",
       "    </tr>\n",
       "    <tr>\n",
       "      <th>223</th>\n",
       "      <td>64</td>\n",
       "      <td>average</td>\n",
       "      <td>145674.31</td>\n",
       "    </tr>\n",
       "    <tr>\n",
       "      <th>236</th>\n",
       "      <td>Unlimited</td>\n",
       "      <td>average</td>\n",
       "      <td>128654.85</td>\n",
       "    </tr>\n",
       "    <tr>\n",
       "      <th>...</th>\n",
       "      <td>...</td>\n",
       "      <td>...</td>\n",
       "      <td>...</td>\n",
       "    </tr>\n",
       "    <tr>\n",
       "      <th>58</th>\n",
       "      <td>08</td>\n",
       "      <td>susan</td>\n",
       "      <td>139568.00</td>\n",
       "    </tr>\n",
       "    <tr>\n",
       "      <th>84</th>\n",
       "      <td>16</td>\n",
       "      <td>susan</td>\n",
       "      <td>68648.00</td>\n",
       "    </tr>\n",
       "    <tr>\n",
       "      <th>175</th>\n",
       "      <td>32</td>\n",
       "      <td>susan</td>\n",
       "      <td>37212.00</td>\n",
       "    </tr>\n",
       "    <tr>\n",
       "      <th>32</th>\n",
       "      <td>64</td>\n",
       "      <td>susan</td>\n",
       "      <td>17873.00</td>\n",
       "    </tr>\n",
       "    <tr>\n",
       "      <th>201</th>\n",
       "      <td>Unlimited</td>\n",
       "      <td>susan</td>\n",
       "      <td>17820.00</td>\n",
       "    </tr>\n",
       "  </tbody>\n",
       "</table>\n",
       "<p>70 rows × 3 columns</p>\n",
       "</div>"
      ],
      "text/plain": [
       "    executable_type benchmark  writes_on_hottest_stack_address\n",
       "225              08   average                        253315.08\n",
       "227              16   average                        189150.85\n",
       "234              32   average                        161817.38\n",
       "223              64   average                        145674.31\n",
       "236       Unlimited   average                        128654.85\n",
       "..              ...       ...                              ...\n",
       "58               08     susan                        139568.00\n",
       "84               16     susan                         68648.00\n",
       "175              32     susan                         37212.00\n",
       "32               64     susan                         17873.00\n",
       "201       Unlimited     susan                         17820.00\n",
       "\n",
       "[70 rows x 3 columns]"
      ]
     },
     "execution_count": 15,
     "metadata": {},
     "output_type": "execute_result"
    }
   ],
   "source": [
    "recursion_depth_limit_benchmark_writes_on_hottest_stack_addresses = benchmark_writes_on_hottest_stack_addresses[\n",
    "    benchmark_writes_on_hottest_stack_addresses['executable_type'].isin(\n",
    "        recursion_depth_limit_executable_type_renaming\n",
    "    )\n",
    "].replace(\n",
    "    to_replace=recursion_depth_limit_executable_type_renaming\n",
    ").sort_values(\n",
    "    by=['benchmark', 'executable_type']\n",
    ")\n",
    "\n",
    "recursion_depth_limit_benchmark_writes_on_hottest_stack_addresses"
   ]
  },
  {
   "cell_type": "code",
   "execution_count": 16,
   "id": "16daa41d-12cb-47cc-9220-92fa72afcdbd",
   "metadata": {},
   "outputs": [
    {
     "data": {
      "text/plain": [
       "(<Figure size 1000x500 with 1 Axes>,\n",
       " <AxesSubplot:xlabel='Benchmark', ylabel='Writes on Hottest Stack Address'>)"
      ]
     },
     "execution_count": 16,
     "metadata": {},
     "output_type": "execute_result"
    },
    {
     "data": {
      "application/vnd.jupyter.widget-view+json": {
       "model_id": "a3b41f442e834f92b1b0559d057ef17e",
       "version_major": 2,
       "version_minor": 0
      },
      "image/png": "[encoded data removed]",
      "text/html": [
       "\n",
       "            <div style=\"display: inline-block;\">\n",
       "                <div class=\"jupyter-widgets widget-label\" style=\"text-align: center;\">\n",
       "                    Figure\n",
       "                </div>\n",
       "                <img src='data:image/png;base64,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' width=1000.0/>\n",
       "            </div>\n",
       "        "
      ],
      "text/plain": [
       "Canvas(toolbar=Toolbar(toolitems=[('Home', 'Reset original view', 'home', 'home'), ('Back', 'Back to previous …"
      ]
     },
     "metadata": {},
     "output_type": "display_data"
    }
   ],
   "source": [
    "grouped_bar_chart(\n",
    "    groups=recursion_depth_limit_benchmark_writes_on_hottest_stack_addresses['benchmark'].unique(),\n",
    "    labels=recursion_depth_limit_executable_type_renaming.values(),\n",
    "    data_by_label = (\n",
    "        recursion_depth_limit_benchmark_writes_on_hottest_stack_addresses[\n",
    "            recursion_depth_limit_benchmark_writes_on_hottest_stack_addresses['executable_type'] == recursion_depth_limit_executable_type\n",
    "        ]['writes_on_hottest_stack_address']\n",
    "        for recursion_depth_limit_executable_type in recursion_depth_limit_executable_type_renaming.values()\n",
    "    ),\n",
    "    xlabel='Benchmark',\n",
    "    ylabel='Writes on Hottest Stack Address',\n",
    "    log=True\n",
    ")"
   ]
  },
  {
   "cell_type": "code",
   "execution_count": 17,
   "id": "2866a496-0203-4aef-8f2a-a7dafffed674",
   "metadata": {},
   "outputs": [],
   "source": [
    "_[0].savefig('writes_on_hottest_stack_address_under_different_recursion_depth_limits.pdf')"
   ]
  },
  {
   "cell_type": "code",
   "execution_count": 18,
   "id": "6837cd90-e25b-48e1-86fe-3e759f4ec7a1",
   "metadata": {},
   "outputs": [
    {
     "name": "stdout",
     "output_type": "stream",
     "text": [
      "\\begin{table}\n",
      "\\centering\n",
      "\\caption{Writes on Hottest Stack Address Under Different Recursion Depth Limits}\n",
      "\\label{table:writes_on_hottest_stack_address_under_different_recursion_depth_limits}\n",
      "\\begin{tabular}{lrrrrr}\n",
      "\\toprule\n",
      "benchmark &  Unlimited &   08 Change &   16 Change &   32 Change &  64 Change \\\\\n",
      "\\midrule\n",
      "  average &   1.29e+05 &      96.90\\% &      47.02\\% &      25.78\\% &     13.23\\% \\\\\n",
      "basicmath &   5.60e+04 &      12.16\\% &      -9.82\\% &     -14.63\\% &    -12.60\\% \\\\\n",
      "       bf &   1.56e+05 &      30.64\\% &       0.00\\% &       0.00\\% &      0.00\\% \\\\\n",
      "  bitcnts &   1.18e+02 & 317,711.86\\% & 150,893.22\\% & 107,110.17\\% & 67,490.68\\% \\\\\n",
      "   crc\\_32 &   1.37e+06 &       0.00\\% &       0.00\\% &       0.00\\% &      0.00\\% \\\\\n",
      " dijkstra &   1.07e+04 &   3,122.34\\% &   1,532.07\\% &     736.83\\% &    363.52\\% \\\\\n",
      "      fft &   7.76e+02 &  16,612.50\\% &  11,421.01\\% &   7,659.79\\% &  3,895.49\\% \\\\\n",
      " patricia &   2.18e+04 &     530.03\\% &     327.99\\% &     159.89\\% &     92.65\\% \\\\\n",
      "  pbmsrch &   6.10e+01 &     345.90\\% &     157.38\\% &      32.79\\% &    -31.15\\% \\\\\n",
      "    qsort &   2.30e+04 &      57.68\\% &      46.83\\% &      16.94\\% &     17.55\\% \\\\\n",
      "rawcaudio &   1.41e+03 &  12,418.74\\% &   6,058.27\\% &   2,978.50\\% &  1,436.92\\% \\\\\n",
      "rawdaudio &   1.46e+03 &  12,347.50\\% &   6,173.51\\% &   3,086.58\\% &  1,481.25\\% \\\\\n",
      "      sha &   1.46e+04 &     835.55\\% &     360.47\\% &     201.55\\% &     91.81\\% \\\\\n",
      "    susan &   1.78e+04 &     683.21\\% &     285.23\\% &     108.82\\% &      0.30\\% \\\\\n",
      "\\bottomrule\n",
      "\\end{tabular}\n",
      "\\end{table}\n",
      "\n"
     ]
    }
   ],
   "source": [
    "writes_on_hottest_stack_address_under_different_recursion_depth_limits = calculate_increases(\n",
    "    recursion_depth_limit_benchmark_writes_on_hottest_stack_addresses,\n",
    "    'Unlimited',\n",
    "    [\n",
    "        f'{recursion_depth_limit:02}' for recursion_depth_limit in recursion_depth_limit_list\n",
    "    ],\n",
    "    'writes_on_hottest_stack_address',\n",
    "    lambda executable_type: f'{executable_type} Change'\n",
    ").to_latex(\n",
    "    formatters={\n",
    "        f'{executable_type} Change': '{:,.2%}'.format\n",
    "        for executable_type in recursion_depth_limit_executable_type_renaming.values()\n",
    "    },\n",
    "    caption='Writes on Hottest Stack Address Under Different Recursion Depth Limits',\n",
    "    label='table:writes_on_hottest_stack_address_under_different_recursion_depth_limits',\n",
    "    index=False\n",
    ")\n",
    "\n",
    "print(writes_on_hottest_stack_address_under_different_recursion_depth_limits)"
   ]
  },
  {
   "cell_type": "code",
   "execution_count": null,
   "id": "c68741fc-a45f-46fc-8d6e-2e37a103f8d4",
   "metadata": {},
   "outputs": [],
   "source": []
  }
 ],
 "metadata": {
  "kernelspec": {
   "display_name": "Python 3 (ipykernel)",
   "language": "python",
   "name": "python3"
  },
  "language_info": {
   "codemirror_mode": {
    "name": "ipython",
    "version": 3
   },
   "file_extension": ".py",
   "mimetype": "text/x-python",
   "name": "python",
   "nbconvert_exporter": "python",
   "pygments_lexer": "ipython3",
   "version": "3.7.12"
  }
 },
 "nbformat": 4,
 "nbformat_minor": 5
}
